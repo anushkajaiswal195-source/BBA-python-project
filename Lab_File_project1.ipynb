{
  "cells": [
    {
      "cell_type": "markdown",
      "metadata": {
        "id": "Za8-Nr5k11fh"
      },
      "source": [
        "##### Copyright 2018 The TensorFlow Authors."
      ]
    },
    {
      "cell_type": "code",
      "execution_count": null,
      "metadata": {
        "id": "Eq10uEbw0E4l"
      },
      "outputs": [],
      "source": [
        "#@title Licensed under the Apache License, Version 2.0 (the \"License\");\n",
        "# you may not use this file except in compliance with the License.\n",
        "# You may obtain a copy of the License at\n",
        "#\n",
        "# https://www.apache.org/licenses/LICENSE-2.0\n",
        "#\n",
        "# Unless required by applicable law or agreed to in writing, software\n",
        "# distributed under the License is distributed on an \"AS IS\" BASIS,\n",
        "# WITHOUT WARRANTIES OR CONDITIONS OF ANY KIND, either express or implied.\n",
        "# See the License for the specific language governing permissions and\n",
        "# limitations under the License."
      ]
    },
    {
      "cell_type": "markdown",
      "metadata": {
        "id": "70ffd9b5"
      },
      "source": [
        "You can upload files to your Colab environment using the files tab on the left sidebar.\n",
        "\n",
        "1. Click the folder icon on the left sidebar to open the file browser.\n",
        "2. Click the \"Upload to session storage\" icon (it looks like a paper with an arrow pointing up) and select your `earthquake_data_tsunami.csv` file.\n",
        "\n",
        "Note that files uploaded this way will be deleted when your runtime is recycled. For more permanent storage, you can mount your Google Drive."
      ]
    },
    {
      "cell_type": "code",
      "source": [
        "pip install pandas"
      ],
      "metadata": {
        "colab": {
          "base_uri": "https://localhost:8080/"
        },
        "id": "sxEQtMeO3wNv",
        "outputId": "182064a9-5bac-44fd-fc90-a2f1711d0b5d"
      },
      "execution_count": null,
      "outputs": [
        {
          "output_type": "stream",
          "name": "stdout",
          "text": [
            "Requirement already satisfied: pandas in /usr/local/lib/python3.12/dist-packages (2.2.2)\n",
            "Requirement already satisfied: numpy>=1.26.0 in /usr/local/lib/python3.12/dist-packages (from pandas) (2.0.2)\n",
            "Requirement already satisfied: python-dateutil>=2.8.2 in /usr/local/lib/python3.12/dist-packages (from pandas) (2.9.0.post0)\n",
            "Requirement already satisfied: pytz>=2020.1 in /usr/local/lib/python3.12/dist-packages (from pandas) (2025.2)\n",
            "Requirement already satisfied: tzdata>=2022.7 in /usr/local/lib/python3.12/dist-packages (from pandas) (2025.2)\n",
            "Requirement already satisfied: six>=1.5 in /usr/local/lib/python3.12/dist-packages (from python-dateutil>=2.8.2->pandas) (1.17.0)\n"
          ]
        }
      ]
    },
    {
      "cell_type": "code",
      "source": [
        "import pandas as pd"
      ],
      "metadata": {
        "id": "WGCFEYb90fkJ"
      },
      "execution_count": null,
      "outputs": []
    },
    {
      "cell_type": "code",
      "source": [
        "data = {\n",
        "    \"Date\": [\n",
        "        \"2023-01-14\", \"2023-02-10\", \"2023-03-05\", \"2023-04-20\", \"2023-05-18\",\n",
        "        \"2023-06-25\", \"2023-07-11\", \"2023-08-02\", \"2023-09-09\", \"2023-10-13\",\n",
        "        \"2023-11-07\", \"2023-12-21\"\n",
        "    ],\n",
        "    \"Location\": [\n",
        "        \"Japan\", \"Chile\", \"Indonesia\", \"Alaska\", \"Philippines\",\n",
        "        \"Mexico\", \"New Zealand\", \"Peru\", \"Greece\", \"India\",\n",
        "        \"Turkey\", \"Fiji\"\n",
        "         ],\n",
        "    \"Magnitude\": [7.8, 6.5, 8.1, 7.3, 6.8, 7.0, 6.2, 7.6, 5.9, 6.4, 7.9, 8.3],\n",
        "    \"Depth_km\": [30, 50, 20, 80, 40, 60, 35, 25, 15, 45, 10, 33],\n",
        "    \"Tsunami\": [1, 0, 1, 0, 1, 0, 0, 1, 0, 0, 1, 1],\n",
        "    \"Fatalities\": [250, 15, 1200, 5, 340, 20, 8, 220, 3, 10, 430, 890],\n",
        "    \"Damage_MillionUSD\": [1200, 80, 2500, 60, 700, 90, 20, 400, 15, 40, 1300, 2000]\n",
        "}\n",
        "\n",
        "df = pd.DataFrame(data)\n",
        "print(df)"
      ],
      "metadata": {
        "colab": {
          "base_uri": "https://localhost:8080/"
        },
        "id": "_ZI6EBcT0fnX",
        "outputId": "a075af14-c04d-453e-e26f-34ab02ef41b0"
      },
      "execution_count": null,
      "outputs": [
        {
          "output_type": "stream",
          "name": "stdout",
          "text": [
            "          Date     Location  Magnitude  Depth_km  Tsunami  Fatalities  \\\n",
            "0   2023-01-14        Japan        7.8        30        1         250   \n",
            "1   2023-02-10        Chile        6.5        50        0          15   \n",
            "2   2023-03-05    Indonesia        8.1        20        1        1200   \n",
            "3   2023-04-20       Alaska        7.3        80        0           5   \n",
            "4   2023-05-18  Philippines        6.8        40        1         340   \n",
            "5   2023-06-25       Mexico        7.0        60        0          20   \n",
            "6   2023-07-11  New Zealand        6.2        35        0           8   \n",
            "7   2023-08-02         Peru        7.6        25        1         220   \n",
            "8   2023-09-09       Greece        5.9        15        0           3   \n",
            "9   2023-10-13        India        6.4        45        0          10   \n",
            "10  2023-11-07       Turkey        7.9        10        1         430   \n",
            "11  2023-12-21         Fiji        8.3        33        1         890   \n",
            "\n",
            "    Damage_MillionUSD  \n",
            "0                1200  \n",
            "1                  80  \n",
            "2                2500  \n",
            "3                  60  \n",
            "4                 700  \n",
            "5                  90  \n",
            "6                  20  \n",
            "7                 400  \n",
            "8                  15  \n",
            "9                  40  \n",
            "10               1300  \n",
            "11               2000  \n"
          ]
        }
      ]
    },
    {
      "cell_type": "code",
      "source": [
        "df[df[\"Tsunami\"] == 1]\n"
      ],
      "metadata": {
        "colab": {
          "base_uri": "https://localhost:8080/",
          "height": 237
        },
        "id": "JdLFr5Pm5D-j",
        "outputId": "091b4bdf-c9de-4cfe-b37b-d87d0311bdeb"
      },
      "execution_count": null,
      "outputs": [
        {
          "output_type": "execute_result",
          "data": {
            "text/plain": [
              "          Date     Location  Magnitude  Depth_km  Tsunami  Fatalities  \\\n",
              "0   2023-01-14        Japan        7.8        30        1         250   \n",
              "2   2023-03-05    Indonesia        8.1        20        1        1200   \n",
              "4   2023-05-18  Philippines        6.8        40        1         340   \n",
              "7   2023-08-02         Peru        7.6        25        1         220   \n",
              "10  2023-11-07       Turkey        7.9        10        1         430   \n",
              "11  2023-12-21         Fiji        8.3        33        1         890   \n",
              "\n",
              "    Damage_MillionUSD  \n",
              "0                1200  \n",
              "2                2500  \n",
              "4                 700  \n",
              "7                 400  \n",
              "10               1300  \n",
              "11               2000  "
            ],
            "text/html": [
              "\n",
              "  <div id=\"df-e11fb5da-783b-4754-be91-b57a2f40829a\" class=\"colab-df-container\">\n",
              "    <div>\n",
              "<style scoped>\n",
              "    .dataframe tbody tr th:only-of-type {\n",
              "        vertical-align: middle;\n",
              "    }\n",
              "\n",
              "    .dataframe tbody tr th {\n",
              "        vertical-align: top;\n",
              "    }\n",
              "\n",
              "    .dataframe thead th {\n",
              "        text-align: right;\n",
              "    }\n",
              "</style>\n",
              "<table border=\"1\" class=\"dataframe\">\n",
              "  <thead>\n",
              "    <tr style=\"text-align: right;\">\n",
              "      <th></th>\n",
              "      <th>Date</th>\n",
              "      <th>Location</th>\n",
              "      <th>Magnitude</th>\n",
              "      <th>Depth_km</th>\n",
              "      <th>Tsunami</th>\n",
              "      <th>Fatalities</th>\n",
              "      <th>Damage_MillionUSD</th>\n",
              "    </tr>\n",
              "  </thead>\n",
              "  <tbody>\n",
              "    <tr>\n",
              "      <th>0</th>\n",
              "      <td>2023-01-14</td>\n",
              "      <td>Japan</td>\n",
              "      <td>7.8</td>\n",
              "      <td>30</td>\n",
              "      <td>1</td>\n",
              "      <td>250</td>\n",
              "      <td>1200</td>\n",
              "    </tr>\n",
              "    <tr>\n",
              "      <th>2</th>\n",
              "      <td>2023-03-05</td>\n",
              "      <td>Indonesia</td>\n",
              "      <td>8.1</td>\n",
              "      <td>20</td>\n",
              "      <td>1</td>\n",
              "      <td>1200</td>\n",
              "      <td>2500</td>\n",
              "    </tr>\n",
              "    <tr>\n",
              "      <th>4</th>\n",
              "      <td>2023-05-18</td>\n",
              "      <td>Philippines</td>\n",
              "      <td>6.8</td>\n",
              "      <td>40</td>\n",
              "      <td>1</td>\n",
              "      <td>340</td>\n",
              "      <td>700</td>\n",
              "    </tr>\n",
              "    <tr>\n",
              "      <th>7</th>\n",
              "      <td>2023-08-02</td>\n",
              "      <td>Peru</td>\n",
              "      <td>7.6</td>\n",
              "      <td>25</td>\n",
              "      <td>1</td>\n",
              "      <td>220</td>\n",
              "      <td>400</td>\n",
              "    </tr>\n",
              "    <tr>\n",
              "      <th>10</th>\n",
              "      <td>2023-11-07</td>\n",
              "      <td>Turkey</td>\n",
              "      <td>7.9</td>\n",
              "      <td>10</td>\n",
              "      <td>1</td>\n",
              "      <td>430</td>\n",
              "      <td>1300</td>\n",
              "    </tr>\n",
              "    <tr>\n",
              "      <th>11</th>\n",
              "      <td>2023-12-21</td>\n",
              "      <td>Fiji</td>\n",
              "      <td>8.3</td>\n",
              "      <td>33</td>\n",
              "      <td>1</td>\n",
              "      <td>890</td>\n",
              "      <td>2000</td>\n",
              "    </tr>\n",
              "  </tbody>\n",
              "</table>\n",
              "</div>\n",
              "    <div class=\"colab-df-buttons\">\n",
              "\n",
              "  <div class=\"colab-df-container\">\n",
              "    <button class=\"colab-df-convert\" onclick=\"convertToInteractive('df-e11fb5da-783b-4754-be91-b57a2f40829a')\"\n",
              "            title=\"Convert this dataframe to an interactive table.\"\n",
              "            style=\"display:none;\">\n",
              "\n",
              "  <svg xmlns=\"http://www.w3.org/2000/svg\" height=\"24px\" viewBox=\"0 -960 960 960\">\n",
              "    <path d=\"M120-120v-720h720v720H120Zm60-500h600v-160H180v160Zm220 220h160v-160H400v160Zm0 220h160v-160H400v160ZM180-400h160v-160H180v160Zm440 0h160v-160H620v160ZM180-180h160v-160H180v160Zm440 0h160v-160H620v160Z\"/>\n",
              "  </svg>\n",
              "    </button>\n",
              "\n",
              "  <style>\n",
              "    .colab-df-container {\n",
              "      display:flex;\n",
              "      gap: 12px;\n",
              "    }\n",
              "\n",
              "    .colab-df-convert {\n",
              "      background-color: #E8F0FE;\n",
              "      border: none;\n",
              "      border-radius: 50%;\n",
              "      cursor: pointer;\n",
              "      display: none;\n",
              "      fill: #1967D2;\n",
              "      height: 32px;\n",
              "      padding: 0 0 0 0;\n",
              "      width: 32px;\n",
              "    }\n",
              "\n",
              "    .colab-df-convert:hover {\n",
              "      background-color: #E2EBFA;\n",
              "      box-shadow: 0px 1px 2px rgba(60, 64, 67, 0.3), 0px 1px 3px 1px rgba(60, 64, 67, 0.15);\n",
              "      fill: #174EA6;\n",
              "    }\n",
              "\n",
              "    .colab-df-buttons div {\n",
              "      margin-bottom: 4px;\n",
              "    }\n",
              "\n",
              "    [theme=dark] .colab-df-convert {\n",
              "      background-color: #3B4455;\n",
              "      fill: #D2E3FC;\n",
              "    }\n",
              "\n",
              "    [theme=dark] .colab-df-convert:hover {\n",
              "      background-color: #434B5C;\n",
              "      box-shadow: 0px 1px 3px 1px rgba(0, 0, 0, 0.15);\n",
              "      filter: drop-shadow(0px 1px 2px rgba(0, 0, 0, 0.3));\n",
              "      fill: #FFFFFF;\n",
              "    }\n",
              "  </style>\n",
              "\n",
              "    <script>\n",
              "      const buttonEl =\n",
              "        document.querySelector('#df-e11fb5da-783b-4754-be91-b57a2f40829a button.colab-df-convert');\n",
              "      buttonEl.style.display =\n",
              "        google.colab.kernel.accessAllowed ? 'block' : 'none';\n",
              "\n",
              "      async function convertToInteractive(key) {\n",
              "        const element = document.querySelector('#df-e11fb5da-783b-4754-be91-b57a2f40829a');\n",
              "        const dataTable =\n",
              "          await google.colab.kernel.invokeFunction('convertToInteractive',\n",
              "                                                    [key], {});\n",
              "        if (!dataTable) return;\n",
              "\n",
              "        const docLinkHtml = 'Like what you see? Visit the ' +\n",
              "          '<a target=\"_blank\" href=https://colab.research.google.com/notebooks/data_table.ipynb>data table notebook</a>'\n",
              "          + ' to learn more about interactive tables.';\n",
              "        element.innerHTML = '';\n",
              "        dataTable['output_type'] = 'display_data';\n",
              "        await google.colab.output.renderOutput(dataTable, element);\n",
              "        const docLink = document.createElement('div');\n",
              "        docLink.innerHTML = docLinkHtml;\n",
              "        element.appendChild(docLink);\n",
              "      }\n",
              "    </script>\n",
              "  </div>\n",
              "\n",
              "\n",
              "    <div id=\"df-56a585cd-3222-4b6d-ab4f-1489a674e00c\">\n",
              "      <button class=\"colab-df-quickchart\" onclick=\"quickchart('df-56a585cd-3222-4b6d-ab4f-1489a674e00c')\"\n",
              "                title=\"Suggest charts\"\n",
              "                style=\"display:none;\">\n",
              "\n",
              "<svg xmlns=\"http://www.w3.org/2000/svg\" height=\"24px\"viewBox=\"0 0 24 24\"\n",
              "     width=\"24px\">\n",
              "    <g>\n",
              "        <path d=\"M19 3H5c-1.1 0-2 .9-2 2v14c0 1.1.9 2 2 2h14c1.1 0 2-.9 2-2V5c0-1.1-.9-2-2-2zM9 17H7v-7h2v7zm4 0h-2V7h2v10zm4 0h-2v-4h2v4z\"/>\n",
              "    </g>\n",
              "</svg>\n",
              "      </button>\n",
              "\n",
              "<style>\n",
              "  .colab-df-quickchart {\n",
              "      --bg-color: #E8F0FE;\n",
              "      --fill-color: #1967D2;\n",
              "      --hover-bg-color: #E2EBFA;\n",
              "      --hover-fill-color: #174EA6;\n",
              "      --disabled-fill-color: #AAA;\n",
              "      --disabled-bg-color: #DDD;\n",
              "  }\n",
              "\n",
              "  [theme=dark] .colab-df-quickchart {\n",
              "      --bg-color: #3B4455;\n",
              "      --fill-color: #D2E3FC;\n",
              "      --hover-bg-color: #434B5C;\n",
              "      --hover-fill-color: #FFFFFF;\n",
              "      --disabled-bg-color: #3B4455;\n",
              "      --disabled-fill-color: #666;\n",
              "  }\n",
              "\n",
              "  .colab-df-quickchart {\n",
              "    background-color: var(--bg-color);\n",
              "    border: none;\n",
              "    border-radius: 50%;\n",
              "    cursor: pointer;\n",
              "    display: none;\n",
              "    fill: var(--fill-color);\n",
              "    height: 32px;\n",
              "    padding: 0;\n",
              "    width: 32px;\n",
              "  }\n",
              "\n",
              "  .colab-df-quickchart:hover {\n",
              "    background-color: var(--hover-bg-color);\n",
              "    box-shadow: 0 1px 2px rgba(60, 64, 67, 0.3), 0 1px 3px 1px rgba(60, 64, 67, 0.15);\n",
              "    fill: var(--button-hover-fill-color);\n",
              "  }\n",
              "\n",
              "  .colab-df-quickchart-complete:disabled,\n",
              "  .colab-df-quickchart-complete:disabled:hover {\n",
              "    background-color: var(--disabled-bg-color);\n",
              "    fill: var(--disabled-fill-color);\n",
              "    box-shadow: none;\n",
              "  }\n",
              "\n",
              "  .colab-df-spinner {\n",
              "    border: 2px solid var(--fill-color);\n",
              "    border-color: transparent;\n",
              "    border-bottom-color: var(--fill-color);\n",
              "    animation:\n",
              "      spin 1s steps(1) infinite;\n",
              "  }\n",
              "\n",
              "  @keyframes spin {\n",
              "    0% {\n",
              "      border-color: transparent;\n",
              "      border-bottom-color: var(--fill-color);\n",
              "      border-left-color: var(--fill-color);\n",
              "    }\n",
              "    20% {\n",
              "      border-color: transparent;\n",
              "      border-left-color: var(--fill-color);\n",
              "      border-top-color: var(--fill-color);\n",
              "    }\n",
              "    30% {\n",
              "      border-color: transparent;\n",
              "      border-left-color: var(--fill-color);\n",
              "      border-top-color: var(--fill-color);\n",
              "      border-right-color: var(--fill-color);\n",
              "    }\n",
              "    40% {\n",
              "      border-color: transparent;\n",
              "      border-right-color: var(--fill-color);\n",
              "      border-top-color: var(--fill-color);\n",
              "    }\n",
              "    60% {\n",
              "      border-color: transparent;\n",
              "      border-right-color: var(--fill-color);\n",
              "    }\n",
              "    80% {\n",
              "      border-color: transparent;\n",
              "      border-right-color: var(--fill-color);\n",
              "      border-bottom-color: var(--fill-color);\n",
              "    }\n",
              "    90% {\n",
              "      border-color: transparent;\n",
              "      border-bottom-color: var(--fill-color);\n",
              "    }\n",
              "  }\n",
              "</style>\n",
              "\n",
              "      <script>\n",
              "        async function quickchart(key) {\n",
              "          const quickchartButtonEl =\n",
              "            document.querySelector('#' + key + ' button');\n",
              "          quickchartButtonEl.disabled = true;  // To prevent multiple clicks.\n",
              "          quickchartButtonEl.classList.add('colab-df-spinner');\n",
              "          try {\n",
              "            const charts = await google.colab.kernel.invokeFunction(\n",
              "                'suggestCharts', [key], {});\n",
              "          } catch (error) {\n",
              "            console.error('Error during call to suggestCharts:', error);\n",
              "          }\n",
              "          quickchartButtonEl.classList.remove('colab-df-spinner');\n",
              "          quickchartButtonEl.classList.add('colab-df-quickchart-complete');\n",
              "        }\n",
              "        (() => {\n",
              "          let quickchartButtonEl =\n",
              "            document.querySelector('#df-56a585cd-3222-4b6d-ab4f-1489a674e00c button');\n",
              "          quickchartButtonEl.style.display =\n",
              "            google.colab.kernel.accessAllowed ? 'block' : 'none';\n",
              "        })();\n",
              "      </script>\n",
              "    </div>\n",
              "\n",
              "    </div>\n",
              "  </div>\n"
            ],
            "application/vnd.google.colaboratory.intrinsic+json": {
              "type": "dataframe",
              "summary": "{\n  \"name\": \"df[df[\\\"Tsunami\\\"] == 1]\",\n  \"rows\": 6,\n  \"fields\": [\n    {\n      \"column\": \"Date\",\n      \"properties\": {\n        \"dtype\": \"object\",\n        \"num_unique_values\": 6,\n        \"samples\": [\n          \"2023-01-14\",\n          \"2023-03-05\",\n          \"2023-12-21\"\n        ],\n        \"semantic_type\": \"\",\n        \"description\": \"\"\n      }\n    },\n    {\n      \"column\": \"Location\",\n      \"properties\": {\n        \"dtype\": \"string\",\n        \"num_unique_values\": 6,\n        \"samples\": [\n          \"Japan\",\n          \"Indonesia\",\n          \"Fiji\"\n        ],\n        \"semantic_type\": \"\",\n        \"description\": \"\"\n      }\n    },\n    {\n      \"column\": \"Magnitude\",\n      \"properties\": {\n        \"dtype\": \"number\",\n        \"std\": 0.524404424085076,\n        \"min\": 6.8,\n        \"max\": 8.3,\n        \"num_unique_values\": 6,\n        \"samples\": [\n          7.8,\n          8.1,\n          8.3\n        ],\n        \"semantic_type\": \"\",\n        \"description\": \"\"\n      }\n    },\n    {\n      \"column\": \"Depth_km\",\n      \"properties\": {\n        \"dtype\": \"number\",\n        \"std\": 10,\n        \"min\": 10,\n        \"max\": 40,\n        \"num_unique_values\": 6,\n        \"samples\": [\n          30,\n          20,\n          33\n        ],\n        \"semantic_type\": \"\",\n        \"description\": \"\"\n      }\n    },\n    {\n      \"column\": \"Tsunami\",\n      \"properties\": {\n        \"dtype\": \"number\",\n        \"std\": 0,\n        \"min\": 1,\n        \"max\": 1,\n        \"num_unique_values\": 1,\n        \"samples\": [\n          1\n        ],\n        \"semantic_type\": \"\",\n        \"description\": \"\"\n      }\n    },\n    {\n      \"column\": \"Fatalities\",\n      \"properties\": {\n        \"dtype\": \"number\",\n        \"std\": 398,\n        \"min\": 220,\n        \"max\": 1200,\n        \"num_unique_values\": 6,\n        \"samples\": [\n          250\n        ],\n        \"semantic_type\": \"\",\n        \"description\": \"\"\n      }\n    },\n    {\n      \"column\": \"Damage_MillionUSD\",\n      \"properties\": {\n        \"dtype\": \"number\",\n        \"std\": 786,\n        \"min\": 400,\n        \"max\": 2500,\n        \"num_unique_values\": 6,\n        \"samples\": [\n          1200\n        ],\n        \"semantic_type\": \"\",\n        \"description\": \"\"\n      }\n    }\n  ]\n}"
            }
          },
          "metadata": {},
          "execution_count": 9
        }
      ]
    },
    {
      "cell_type": "code",
      "source": [
        "df.loc[df[\"Fatalities\"].idxmax(), \"Location\"]\n"
      ],
      "metadata": {
        "colab": {
          "base_uri": "https://localhost:8080/",
          "height": 35
        },
        "id": "_zwi-NHQ0fqe",
        "outputId": "a16e50c0-f368-4c82-f602-934a55a0e8a3"
      },
      "execution_count": null,
      "outputs": [
        {
          "output_type": "execute_result",
          "data": {
            "text/plain": [
              "'Indonesia'"
            ],
            "application/vnd.google.colaboratory.intrinsic+json": {
              "type": "string"
            }
          },
          "metadata": {},
          "execution_count": 10
        }
      ]
    },
    {
      "cell_type": "code",
      "source": [
        "df[\"Damage_MillionUSD\"].sum()\n"
      ],
      "metadata": {
        "colab": {
          "base_uri": "https://localhost:8080/"
        },
        "id": "inVSdFaQ0ftT",
        "outputId": "3e20cf93-cb7b-4fe2-eece-60976b549436"
      },
      "execution_count": null,
      "outputs": [
        {
          "output_type": "execute_result",
          "data": {
            "text/plain": [
              "np.int64(8405)"
            ]
          },
          "metadata": {},
          "execution_count": 11
        }
      ]
    },
    {
      "cell_type": "code",
      "source": [
        "df[df[\"Magnitude\"] > 7.5]\n"
      ],
      "metadata": {
        "colab": {
          "base_uri": "https://localhost:8080/",
          "height": 206
        },
        "id": "iZVcdROk8ZMa",
        "outputId": "24d7dd92-e761-401d-eae1-e42fc8660a29"
      },
      "execution_count": null,
      "outputs": [
        {
          "output_type": "execute_result",
          "data": {
            "text/plain": [
              "          Date   Location  Magnitude  Depth_km  Tsunami  Fatalities  \\\n",
              "0   2023-01-14      Japan        7.8        30        1         250   \n",
              "2   2023-03-05  Indonesia        8.1        20        1        1200   \n",
              "7   2023-08-02       Peru        7.6        25        1         220   \n",
              "10  2023-11-07     Turkey        7.9        10        1         430   \n",
              "11  2023-12-21       Fiji        8.3        33        1         890   \n",
              "\n",
              "    Damage_MillionUSD  \n",
              "0                1200  \n",
              "2                2500  \n",
              "7                 400  \n",
              "10               1300  \n",
              "11               2000  "
            ],
            "text/html": [
              "\n",
              "  <div id=\"df-def18d54-4556-4bac-990e-a2cae8c9054f\" class=\"colab-df-container\">\n",
              "    <div>\n",
              "<style scoped>\n",
              "    .dataframe tbody tr th:only-of-type {\n",
              "        vertical-align: middle;\n",
              "    }\n",
              "\n",
              "    .dataframe tbody tr th {\n",
              "        vertical-align: top;\n",
              "    }\n",
              "\n",
              "    .dataframe thead th {\n",
              "        text-align: right;\n",
              "    }\n",
              "</style>\n",
              "<table border=\"1\" class=\"dataframe\">\n",
              "  <thead>\n",
              "    <tr style=\"text-align: right;\">\n",
              "      <th></th>\n",
              "      <th>Date</th>\n",
              "      <th>Location</th>\n",
              "      <th>Magnitude</th>\n",
              "      <th>Depth_km</th>\n",
              "      <th>Tsunami</th>\n",
              "      <th>Fatalities</th>\n",
              "      <th>Damage_MillionUSD</th>\n",
              "    </tr>\n",
              "  </thead>\n",
              "  <tbody>\n",
              "    <tr>\n",
              "      <th>0</th>\n",
              "      <td>2023-01-14</td>\n",
              "      <td>Japan</td>\n",
              "      <td>7.8</td>\n",
              "      <td>30</td>\n",
              "      <td>1</td>\n",
              "      <td>250</td>\n",
              "      <td>1200</td>\n",
              "    </tr>\n",
              "    <tr>\n",
              "      <th>2</th>\n",
              "      <td>2023-03-05</td>\n",
              "      <td>Indonesia</td>\n",
              "      <td>8.1</td>\n",
              "      <td>20</td>\n",
              "      <td>1</td>\n",
              "      <td>1200</td>\n",
              "      <td>2500</td>\n",
              "    </tr>\n",
              "    <tr>\n",
              "      <th>7</th>\n",
              "      <td>2023-08-02</td>\n",
              "      <td>Peru</td>\n",
              "      <td>7.6</td>\n",
              "      <td>25</td>\n",
              "      <td>1</td>\n",
              "      <td>220</td>\n",
              "      <td>400</td>\n",
              "    </tr>\n",
              "    <tr>\n",
              "      <th>10</th>\n",
              "      <td>2023-11-07</td>\n",
              "      <td>Turkey</td>\n",
              "      <td>7.9</td>\n",
              "      <td>10</td>\n",
              "      <td>1</td>\n",
              "      <td>430</td>\n",
              "      <td>1300</td>\n",
              "    </tr>\n",
              "    <tr>\n",
              "      <th>11</th>\n",
              "      <td>2023-12-21</td>\n",
              "      <td>Fiji</td>\n",
              "      <td>8.3</td>\n",
              "      <td>33</td>\n",
              "      <td>1</td>\n",
              "      <td>890</td>\n",
              "      <td>2000</td>\n",
              "    </tr>\n",
              "  </tbody>\n",
              "</table>\n",
              "</div>\n",
              "    <div class=\"colab-df-buttons\">\n",
              "\n",
              "  <div class=\"colab-df-container\">\n",
              "    <button class=\"colab-df-convert\" onclick=\"convertToInteractive('df-def18d54-4556-4bac-990e-a2cae8c9054f')\"\n",
              "            title=\"Convert this dataframe to an interactive table.\"\n",
              "            style=\"display:none;\">\n",
              "\n",
              "  <svg xmlns=\"http://www.w3.org/2000/svg\" height=\"24px\" viewBox=\"0 -960 960 960\">\n",
              "    <path d=\"M120-120v-720h720v720H120Zm60-500h600v-160H180v160Zm220 220h160v-160H400v160Zm0 220h160v-160H400v160ZM180-400h160v-160H180v160Zm440 0h160v-160H620v160ZM180-180h160v-160H180v160Zm440 0h160v-160H620v160Z\"/>\n",
              "  </svg>\n",
              "    </button>\n",
              "\n",
              "  <style>\n",
              "    .colab-df-container {\n",
              "      display:flex;\n",
              "      gap: 12px;\n",
              "    }\n",
              "\n",
              "    .colab-df-convert {\n",
              "      background-color: #E8F0FE;\n",
              "      border: none;\n",
              "      border-radius: 50%;\n",
              "      cursor: pointer;\n",
              "      display: none;\n",
              "      fill: #1967D2;\n",
              "      height: 32px;\n",
              "      padding: 0 0 0 0;\n",
              "      width: 32px;\n",
              "    }\n",
              "\n",
              "    .colab-df-convert:hover {\n",
              "      background-color: #E2EBFA;\n",
              "      box-shadow: 0px 1px 2px rgba(60, 64, 67, 0.3), 0px 1px 3px 1px rgba(60, 64, 67, 0.15);\n",
              "      fill: #174EA6;\n",
              "    }\n",
              "\n",
              "    .colab-df-buttons div {\n",
              "      margin-bottom: 4px;\n",
              "    }\n",
              "\n",
              "    [theme=dark] .colab-df-convert {\n",
              "      background-color: #3B4455;\n",
              "      fill: #D2E3FC;\n",
              "    }\n",
              "\n",
              "    [theme=dark] .colab-df-convert:hover {\n",
              "      background-color: #434B5C;\n",
              "      box-shadow: 0px 1px 3px 1px rgba(0, 0, 0, 0.15);\n",
              "      filter: drop-shadow(0px 1px 2px rgba(0, 0, 0, 0.3));\n",
              "      fill: #FFFFFF;\n",
              "    }\n",
              "  </style>\n",
              "\n",
              "    <script>\n",
              "      const buttonEl =\n",
              "        document.querySelector('#df-def18d54-4556-4bac-990e-a2cae8c9054f button.colab-df-convert');\n",
              "      buttonEl.style.display =\n",
              "        google.colab.kernel.accessAllowed ? 'block' : 'none';\n",
              "\n",
              "      async function convertToInteractive(key) {\n",
              "        const element = document.querySelector('#df-def18d54-4556-4bac-990e-a2cae8c9054f');\n",
              "        const dataTable =\n",
              "          await google.colab.kernel.invokeFunction('convertToInteractive',\n",
              "                                                    [key], {});\n",
              "        if (!dataTable) return;\n",
              "\n",
              "        const docLinkHtml = 'Like what you see? Visit the ' +\n",
              "          '<a target=\"_blank\" href=https://colab.research.google.com/notebooks/data_table.ipynb>data table notebook</a>'\n",
              "          + ' to learn more about interactive tables.';\n",
              "        element.innerHTML = '';\n",
              "        dataTable['output_type'] = 'display_data';\n",
              "        await google.colab.output.renderOutput(dataTable, element);\n",
              "        const docLink = document.createElement('div');\n",
              "        docLink.innerHTML = docLinkHtml;\n",
              "        element.appendChild(docLink);\n",
              "      }\n",
              "    </script>\n",
              "  </div>\n",
              "\n",
              "\n",
              "    <div id=\"df-4b213cf2-51dd-4e9d-87d1-fa503b3d0e54\">\n",
              "      <button class=\"colab-df-quickchart\" onclick=\"quickchart('df-4b213cf2-51dd-4e9d-87d1-fa503b3d0e54')\"\n",
              "                title=\"Suggest charts\"\n",
              "                style=\"display:none;\">\n",
              "\n",
              "<svg xmlns=\"http://www.w3.org/2000/svg\" height=\"24px\"viewBox=\"0 0 24 24\"\n",
              "     width=\"24px\">\n",
              "    <g>\n",
              "        <path d=\"M19 3H5c-1.1 0-2 .9-2 2v14c0 1.1.9 2 2 2h14c1.1 0 2-.9 2-2V5c0-1.1-.9-2-2-2zM9 17H7v-7h2v7zm4 0h-2V7h2v10zm4 0h-2v-4h2v4z\"/>\n",
              "    </g>\n",
              "</svg>\n",
              "      </button>\n",
              "\n",
              "<style>\n",
              "  .colab-df-quickchart {\n",
              "      --bg-color: #E8F0FE;\n",
              "      --fill-color: #1967D2;\n",
              "      --hover-bg-color: #E2EBFA;\n",
              "      --hover-fill-color: #174EA6;\n",
              "      --disabled-fill-color: #AAA;\n",
              "      --disabled-bg-color: #DDD;\n",
              "  }\n",
              "\n",
              "  [theme=dark] .colab-df-quickchart {\n",
              "      --bg-color: #3B4455;\n",
              "      --fill-color: #D2E3FC;\n",
              "      --hover-bg-color: #434B5C;\n",
              "      --hover-fill-color: #FFFFFF;\n",
              "      --disabled-bg-color: #3B4455;\n",
              "      --disabled-fill-color: #666;\n",
              "  }\n",
              "\n",
              "  .colab-df-quickchart {\n",
              "    background-color: var(--bg-color);\n",
              "    border: none;\n",
              "    border-radius: 50%;\n",
              "    cursor: pointer;\n",
              "    display: none;\n",
              "    fill: var(--fill-color);\n",
              "    height: 32px;\n",
              "    padding: 0;\n",
              "    width: 32px;\n",
              "  }\n",
              "\n",
              "  .colab-df-quickchart:hover {\n",
              "    background-color: var(--hover-bg-color);\n",
              "    box-shadow: 0 1px 2px rgba(60, 64, 67, 0.3), 0 1px 3px 1px rgba(60, 64, 67, 0.15);\n",
              "    fill: var(--button-hover-fill-color);\n",
              "  }\n",
              "\n",
              "  .colab-df-quickchart-complete:disabled,\n",
              "  .colab-df-quickchart-complete:disabled:hover {\n",
              "    background-color: var(--disabled-bg-color);\n",
              "    fill: var(--disabled-fill-color);\n",
              "    box-shadow: none;\n",
              "  }\n",
              "\n",
              "  .colab-df-spinner {\n",
              "    border: 2px solid var(--fill-color);\n",
              "    border-color: transparent;\n",
              "    border-bottom-color: var(--fill-color);\n",
              "    animation:\n",
              "      spin 1s steps(1) infinite;\n",
              "  }\n",
              "\n",
              "  @keyframes spin {\n",
              "    0% {\n",
              "      border-color: transparent;\n",
              "      border-bottom-color: var(--fill-color);\n",
              "      border-left-color: var(--fill-color);\n",
              "    }\n",
              "    20% {\n",
              "      border-color: transparent;\n",
              "      border-left-color: var(--fill-color);\n",
              "      border-top-color: var(--fill-color);\n",
              "    }\n",
              "    30% {\n",
              "      border-color: transparent;\n",
              "      border-left-color: var(--fill-color);\n",
              "      border-top-color: var(--fill-color);\n",
              "      border-right-color: var(--fill-color);\n",
              "    }\n",
              "    40% {\n",
              "      border-color: transparent;\n",
              "      border-right-color: var(--fill-color);\n",
              "      border-top-color: var(--fill-color);\n",
              "    }\n",
              "    60% {\n",
              "      border-color: transparent;\n",
              "      border-right-color: var(--fill-color);\n",
              "    }\n",
              "    80% {\n",
              "      border-color: transparent;\n",
              "      border-right-color: var(--fill-color);\n",
              "      border-bottom-color: var(--fill-color);\n",
              "    }\n",
              "    90% {\n",
              "      border-color: transparent;\n",
              "      border-bottom-color: var(--fill-color);\n",
              "    }\n",
              "  }\n",
              "</style>\n",
              "\n",
              "      <script>\n",
              "        async function quickchart(key) {\n",
              "          const quickchartButtonEl =\n",
              "            document.querySelector('#' + key + ' button');\n",
              "          quickchartButtonEl.disabled = true;  // To prevent multiple clicks.\n",
              "          quickchartButtonEl.classList.add('colab-df-spinner');\n",
              "          try {\n",
              "            const charts = await google.colab.kernel.invokeFunction(\n",
              "                'suggestCharts', [key], {});\n",
              "          } catch (error) {\n",
              "            console.error('Error during call to suggestCharts:', error);\n",
              "          }\n",
              "          quickchartButtonEl.classList.remove('colab-df-spinner');\n",
              "          quickchartButtonEl.classList.add('colab-df-quickchart-complete');\n",
              "        }\n",
              "        (() => {\n",
              "          let quickchartButtonEl =\n",
              "            document.querySelector('#df-4b213cf2-51dd-4e9d-87d1-fa503b3d0e54 button');\n",
              "          quickchartButtonEl.style.display =\n",
              "            google.colab.kernel.accessAllowed ? 'block' : 'none';\n",
              "        })();\n",
              "      </script>\n",
              "    </div>\n",
              "\n",
              "    </div>\n",
              "  </div>\n"
            ],
            "application/vnd.google.colaboratory.intrinsic+json": {
              "type": "dataframe",
              "summary": "{\n  \"name\": \"df[df[\\\"Magnitude\\\"] > 7\",\n  \"rows\": 5,\n  \"fields\": [\n    {\n      \"column\": \"Date\",\n      \"properties\": {\n        \"dtype\": \"object\",\n        \"num_unique_values\": 5,\n        \"samples\": [\n          \"2023-03-05\",\n          \"2023-12-21\",\n          \"2023-08-02\"\n        ],\n        \"semantic_type\": \"\",\n        \"description\": \"\"\n      }\n    },\n    {\n      \"column\": \"Location\",\n      \"properties\": {\n        \"dtype\": \"string\",\n        \"num_unique_values\": 5,\n        \"samples\": [\n          \"Indonesia\",\n          \"Fiji\",\n          \"Peru\"\n        ],\n        \"semantic_type\": \"\",\n        \"description\": \"\"\n      }\n    },\n    {\n      \"column\": \"Magnitude\",\n      \"properties\": {\n        \"dtype\": \"number\",\n        \"std\": 0.2701851217221262,\n        \"min\": 7.6,\n        \"max\": 8.3,\n        \"num_unique_values\": 5,\n        \"samples\": [\n          8.1,\n          8.3,\n          7.6\n        ],\n        \"semantic_type\": \"\",\n        \"description\": \"\"\n      }\n    },\n    {\n      \"column\": \"Depth_km\",\n      \"properties\": {\n        \"dtype\": \"number\",\n        \"std\": 9,\n        \"min\": 10,\n        \"max\": 33,\n        \"num_unique_values\": 5,\n        \"samples\": [\n          20,\n          33,\n          25\n        ],\n        \"semantic_type\": \"\",\n        \"description\": \"\"\n      }\n    },\n    {\n      \"column\": \"Tsunami\",\n      \"properties\": {\n        \"dtype\": \"number\",\n        \"std\": 0,\n        \"min\": 1,\n        \"max\": 1,\n        \"num_unique_values\": 1,\n        \"samples\": [\n          1\n        ],\n        \"semantic_type\": \"\",\n        \"description\": \"\"\n      }\n    },\n    {\n      \"column\": \"Fatalities\",\n      \"properties\": {\n        \"dtype\": \"number\",\n        \"std\": 430,\n        \"min\": 220,\n        \"max\": 1200,\n        \"num_unique_values\": 5,\n        \"samples\": [\n          1200\n        ],\n        \"semantic_type\": \"\",\n        \"description\": \"\"\n      }\n    },\n    {\n      \"column\": \"Damage_MillionUSD\",\n      \"properties\": {\n        \"dtype\": \"number\",\n        \"std\": 804,\n        \"min\": 400,\n        \"max\": 2500,\n        \"num_unique_values\": 5,\n        \"samples\": [\n          2500\n        ],\n        \"semantic_type\": \"\",\n        \"description\": \"\"\n      }\n    }\n  ]\n}"
            }
          },
          "metadata": {},
          "execution_count": 12
        }
      ]
    },
    {
      "cell_type": "code",
      "source": [
        "df.sort_values(by=\"Magnitude\", ascending=False)\n"
      ],
      "metadata": {
        "colab": {
          "base_uri": "https://localhost:8080/",
          "height": 425
        },
        "id": "tXmUvmvT8gWQ",
        "outputId": "6f50f9bd-61aa-426c-9a30-cb77fc95c57c"
      },
      "execution_count": null,
      "outputs": [
        {
          "output_type": "execute_result",
          "data": {
            "text/plain": [
              "          Date     Location  Magnitude  Depth_km  Tsunami  Fatalities  \\\n",
              "11  2023-12-21         Fiji        8.3        33        1         890   \n",
              "2   2023-03-05    Indonesia        8.1        20        1        1200   \n",
              "10  2023-11-07       Turkey        7.9        10        1         430   \n",
              "0   2023-01-14        Japan        7.8        30        1         250   \n",
              "7   2023-08-02         Peru        7.6        25        1         220   \n",
              "3   2023-04-20       Alaska        7.3        80        0           5   \n",
              "5   2023-06-25       Mexico        7.0        60        0          20   \n",
              "4   2023-05-18  Philippines        6.8        40        1         340   \n",
              "1   2023-02-10        Chile        6.5        50        0          15   \n",
              "9   2023-10-13        India        6.4        45        0          10   \n",
              "6   2023-07-11  New Zealand        6.2        35        0           8   \n",
              "8   2023-09-09       Greece        5.9        15        0           3   \n",
              "\n",
              "    Damage_MillionUSD  \n",
              "11               2000  \n",
              "2                2500  \n",
              "10               1300  \n",
              "0                1200  \n",
              "7                 400  \n",
              "3                  60  \n",
              "5                  90  \n",
              "4                 700  \n",
              "1                  80  \n",
              "9                  40  \n",
              "6                  20  \n",
              "8                  15  "
            ],
            "text/html": [
              "\n",
              "  <div id=\"df-bc9e759e-cc31-4506-866e-506d29e4906e\" class=\"colab-df-container\">\n",
              "    <div>\n",
              "<style scoped>\n",
              "    .dataframe tbody tr th:only-of-type {\n",
              "        vertical-align: middle;\n",
              "    }\n",
              "\n",
              "    .dataframe tbody tr th {\n",
              "        vertical-align: top;\n",
              "    }\n",
              "\n",
              "    .dataframe thead th {\n",
              "        text-align: right;\n",
              "    }\n",
              "</style>\n",
              "<table border=\"1\" class=\"dataframe\">\n",
              "  <thead>\n",
              "    <tr style=\"text-align: right;\">\n",
              "      <th></th>\n",
              "      <th>Date</th>\n",
              "      <th>Location</th>\n",
              "      <th>Magnitude</th>\n",
              "      <th>Depth_km</th>\n",
              "      <th>Tsunami</th>\n",
              "      <th>Fatalities</th>\n",
              "      <th>Damage_MillionUSD</th>\n",
              "    </tr>\n",
              "  </thead>\n",
              "  <tbody>\n",
              "    <tr>\n",
              "      <th>11</th>\n",
              "      <td>2023-12-21</td>\n",
              "      <td>Fiji</td>\n",
              "      <td>8.3</td>\n",
              "      <td>33</td>\n",
              "      <td>1</td>\n",
              "      <td>890</td>\n",
              "      <td>2000</td>\n",
              "    </tr>\n",
              "    <tr>\n",
              "      <th>2</th>\n",
              "      <td>2023-03-05</td>\n",
              "      <td>Indonesia</td>\n",
              "      <td>8.1</td>\n",
              "      <td>20</td>\n",
              "      <td>1</td>\n",
              "      <td>1200</td>\n",
              "      <td>2500</td>\n",
              "    </tr>\n",
              "    <tr>\n",
              "      <th>10</th>\n",
              "      <td>2023-11-07</td>\n",
              "      <td>Turkey</td>\n",
              "      <td>7.9</td>\n",
              "      <td>10</td>\n",
              "      <td>1</td>\n",
              "      <td>430</td>\n",
              "      <td>1300</td>\n",
              "    </tr>\n",
              "    <tr>\n",
              "      <th>0</th>\n",
              "      <td>2023-01-14</td>\n",
              "      <td>Japan</td>\n",
              "      <td>7.8</td>\n",
              "      <td>30</td>\n",
              "      <td>1</td>\n",
              "      <td>250</td>\n",
              "      <td>1200</td>\n",
              "    </tr>\n",
              "    <tr>\n",
              "      <th>7</th>\n",
              "      <td>2023-08-02</td>\n",
              "      <td>Peru</td>\n",
              "      <td>7.6</td>\n",
              "      <td>25</td>\n",
              "      <td>1</td>\n",
              "      <td>220</td>\n",
              "      <td>400</td>\n",
              "    </tr>\n",
              "    <tr>\n",
              "      <th>3</th>\n",
              "      <td>2023-04-20</td>\n",
              "      <td>Alaska</td>\n",
              "      <td>7.3</td>\n",
              "      <td>80</td>\n",
              "      <td>0</td>\n",
              "      <td>5</td>\n",
              "      <td>60</td>\n",
              "    </tr>\n",
              "    <tr>\n",
              "      <th>5</th>\n",
              "      <td>2023-06-25</td>\n",
              "      <td>Mexico</td>\n",
              "      <td>7.0</td>\n",
              "      <td>60</td>\n",
              "      <td>0</td>\n",
              "      <td>20</td>\n",
              "      <td>90</td>\n",
              "    </tr>\n",
              "    <tr>\n",
              "      <th>4</th>\n",
              "      <td>2023-05-18</td>\n",
              "      <td>Philippines</td>\n",
              "      <td>6.8</td>\n",
              "      <td>40</td>\n",
              "      <td>1</td>\n",
              "      <td>340</td>\n",
              "      <td>700</td>\n",
              "    </tr>\n",
              "    <tr>\n",
              "      <th>1</th>\n",
              "      <td>2023-02-10</td>\n",
              "      <td>Chile</td>\n",
              "      <td>6.5</td>\n",
              "      <td>50</td>\n",
              "      <td>0</td>\n",
              "      <td>15</td>\n",
              "      <td>80</td>\n",
              "    </tr>\n",
              "    <tr>\n",
              "      <th>9</th>\n",
              "      <td>2023-10-13</td>\n",
              "      <td>India</td>\n",
              "      <td>6.4</td>\n",
              "      <td>45</td>\n",
              "      <td>0</td>\n",
              "      <td>10</td>\n",
              "      <td>40</td>\n",
              "    </tr>\n",
              "    <tr>\n",
              "      <th>6</th>\n",
              "      <td>2023-07-11</td>\n",
              "      <td>New Zealand</td>\n",
              "      <td>6.2</td>\n",
              "      <td>35</td>\n",
              "      <td>0</td>\n",
              "      <td>8</td>\n",
              "      <td>20</td>\n",
              "    </tr>\n",
              "    <tr>\n",
              "      <th>8</th>\n",
              "      <td>2023-09-09</td>\n",
              "      <td>Greece</td>\n",
              "      <td>5.9</td>\n",
              "      <td>15</td>\n",
              "      <td>0</td>\n",
              "      <td>3</td>\n",
              "      <td>15</td>\n",
              "    </tr>\n",
              "  </tbody>\n",
              "</table>\n",
              "</div>\n",
              "    <div class=\"colab-df-buttons\">\n",
              "\n",
              "  <div class=\"colab-df-container\">\n",
              "    <button class=\"colab-df-convert\" onclick=\"convertToInteractive('df-bc9e759e-cc31-4506-866e-506d29e4906e')\"\n",
              "            title=\"Convert this dataframe to an interactive table.\"\n",
              "            style=\"display:none;\">\n",
              "\n",
              "  <svg xmlns=\"http://www.w3.org/2000/svg\" height=\"24px\" viewBox=\"0 -960 960 960\">\n",
              "    <path d=\"M120-120v-720h720v720H120Zm60-500h600v-160H180v160Zm220 220h160v-160H400v160Zm0 220h160v-160H400v160ZM180-400h160v-160H180v160Zm440 0h160v-160H620v160ZM180-180h160v-160H180v160Zm440 0h160v-160H620v160Z\"/>\n",
              "  </svg>\n",
              "    </button>\n",
              "\n",
              "  <style>\n",
              "    .colab-df-container {\n",
              "      display:flex;\n",
              "      gap: 12px;\n",
              "    }\n",
              "\n",
              "    .colab-df-convert {\n",
              "      background-color: #E8F0FE;\n",
              "      border: none;\n",
              "      border-radius: 50%;\n",
              "      cursor: pointer;\n",
              "      display: none;\n",
              "      fill: #1967D2;\n",
              "      height: 32px;\n",
              "      padding: 0 0 0 0;\n",
              "      width: 32px;\n",
              "    }\n",
              "\n",
              "    .colab-df-convert:hover {\n",
              "      background-color: #E2EBFA;\n",
              "      box-shadow: 0px 1px 2px rgba(60, 64, 67, 0.3), 0px 1px 3px 1px rgba(60, 64, 67, 0.15);\n",
              "      fill: #174EA6;\n",
              "    }\n",
              "\n",
              "    .colab-df-buttons div {\n",
              "      margin-bottom: 4px;\n",
              "    }\n",
              "\n",
              "    [theme=dark] .colab-df-convert {\n",
              "      background-color: #3B4455;\n",
              "      fill: #D2E3FC;\n",
              "    }\n",
              "\n",
              "    [theme=dark] .colab-df-convert:hover {\n",
              "      background-color: #434B5C;\n",
              "      box-shadow: 0px 1px 3px 1px rgba(0, 0, 0, 0.15);\n",
              "      filter: drop-shadow(0px 1px 2px rgba(0, 0, 0, 0.3));\n",
              "      fill: #FFFFFF;\n",
              "    }\n",
              "  </style>\n",
              "\n",
              "    <script>\n",
              "      const buttonEl =\n",
              "        document.querySelector('#df-bc9e759e-cc31-4506-866e-506d29e4906e button.colab-df-convert');\n",
              "      buttonEl.style.display =\n",
              "        google.colab.kernel.accessAllowed ? 'block' : 'none';\n",
              "\n",
              "      async function convertToInteractive(key) {\n",
              "        const element = document.querySelector('#df-bc9e759e-cc31-4506-866e-506d29e4906e');\n",
              "        const dataTable =\n",
              "          await google.colab.kernel.invokeFunction('convertToInteractive',\n",
              "                                                    [key], {});\n",
              "        if (!dataTable) return;\n",
              "\n",
              "        const docLinkHtml = 'Like what you see? Visit the ' +\n",
              "          '<a target=\"_blank\" href=https://colab.research.google.com/notebooks/data_table.ipynb>data table notebook</a>'\n",
              "          + ' to learn more about interactive tables.';\n",
              "        element.innerHTML = '';\n",
              "        dataTable['output_type'] = 'display_data';\n",
              "        await google.colab.output.renderOutput(dataTable, element);\n",
              "        const docLink = document.createElement('div');\n",
              "        docLink.innerHTML = docLinkHtml;\n",
              "        element.appendChild(docLink);\n",
              "      }\n",
              "    </script>\n",
              "  </div>\n",
              "\n",
              "\n",
              "    <div id=\"df-d4f207fc-5626-4623-8648-60420b692689\">\n",
              "      <button class=\"colab-df-quickchart\" onclick=\"quickchart('df-d4f207fc-5626-4623-8648-60420b692689')\"\n",
              "                title=\"Suggest charts\"\n",
              "                style=\"display:none;\">\n",
              "\n",
              "<svg xmlns=\"http://www.w3.org/2000/svg\" height=\"24px\"viewBox=\"0 0 24 24\"\n",
              "     width=\"24px\">\n",
              "    <g>\n",
              "        <path d=\"M19 3H5c-1.1 0-2 .9-2 2v14c0 1.1.9 2 2 2h14c1.1 0 2-.9 2-2V5c0-1.1-.9-2-2-2zM9 17H7v-7h2v7zm4 0h-2V7h2v10zm4 0h-2v-4h2v4z\"/>\n",
              "    </g>\n",
              "</svg>\n",
              "      </button>\n",
              "\n",
              "<style>\n",
              "  .colab-df-quickchart {\n",
              "      --bg-color: #E8F0FE;\n",
              "      --fill-color: #1967D2;\n",
              "      --hover-bg-color: #E2EBFA;\n",
              "      --hover-fill-color: #174EA6;\n",
              "      --disabled-fill-color: #AAA;\n",
              "      --disabled-bg-color: #DDD;\n",
              "  }\n",
              "\n",
              "  [theme=dark] .colab-df-quickchart {\n",
              "      --bg-color: #3B4455;\n",
              "      --fill-color: #D2E3FC;\n",
              "      --hover-bg-color: #434B5C;\n",
              "      --hover-fill-color: #FFFFFF;\n",
              "      --disabled-bg-color: #3B4455;\n",
              "      --disabled-fill-color: #666;\n",
              "  }\n",
              "\n",
              "  .colab-df-quickchart {\n",
              "    background-color: var(--bg-color);\n",
              "    border: none;\n",
              "    border-radius: 50%;\n",
              "    cursor: pointer;\n",
              "    display: none;\n",
              "    fill: var(--fill-color);\n",
              "    height: 32px;\n",
              "    padding: 0;\n",
              "    width: 32px;\n",
              "  }\n",
              "\n",
              "  .colab-df-quickchart:hover {\n",
              "    background-color: var(--hover-bg-color);\n",
              "    box-shadow: 0 1px 2px rgba(60, 64, 67, 0.3), 0 1px 3px 1px rgba(60, 64, 67, 0.15);\n",
              "    fill: var(--button-hover-fill-color);\n",
              "  }\n",
              "\n",
              "  .colab-df-quickchart-complete:disabled,\n",
              "  .colab-df-quickchart-complete:disabled:hover {\n",
              "    background-color: var(--disabled-bg-color);\n",
              "    fill: var(--disabled-fill-color);\n",
              "    box-shadow: none;\n",
              "  }\n",
              "\n",
              "  .colab-df-spinner {\n",
              "    border: 2px solid var(--fill-color);\n",
              "    border-color: transparent;\n",
              "    border-bottom-color: var(--fill-color);\n",
              "    animation:\n",
              "      spin 1s steps(1) infinite;\n",
              "  }\n",
              "\n",
              "  @keyframes spin {\n",
              "    0% {\n",
              "      border-color: transparent;\n",
              "      border-bottom-color: var(--fill-color);\n",
              "      border-left-color: var(--fill-color);\n",
              "    }\n",
              "    20% {\n",
              "      border-color: transparent;\n",
              "      border-left-color: var(--fill-color);\n",
              "      border-top-color: var(--fill-color);\n",
              "    }\n",
              "    30% {\n",
              "      border-color: transparent;\n",
              "      border-left-color: var(--fill-color);\n",
              "      border-top-color: var(--fill-color);\n",
              "      border-right-color: var(--fill-color);\n",
              "    }\n",
              "    40% {\n",
              "      border-color: transparent;\n",
              "      border-right-color: var(--fill-color);\n",
              "      border-top-color: var(--fill-color);\n",
              "    }\n",
              "    60% {\n",
              "      border-color: transparent;\n",
              "      border-right-color: var(--fill-color);\n",
              "    }\n",
              "    80% {\n",
              "      border-color: transparent;\n",
              "      border-right-color: var(--fill-color);\n",
              "      border-bottom-color: var(--fill-color);\n",
              "    }\n",
              "    90% {\n",
              "      border-color: transparent;\n",
              "      border-bottom-color: var(--fill-color);\n",
              "    }\n",
              "  }\n",
              "</style>\n",
              "\n",
              "      <script>\n",
              "        async function quickchart(key) {\n",
              "          const quickchartButtonEl =\n",
              "            document.querySelector('#' + key + ' button');\n",
              "          quickchartButtonEl.disabled = true;  // To prevent multiple clicks.\n",
              "          quickchartButtonEl.classList.add('colab-df-spinner');\n",
              "          try {\n",
              "            const charts = await google.colab.kernel.invokeFunction(\n",
              "                'suggestCharts', [key], {});\n",
              "          } catch (error) {\n",
              "            console.error('Error during call to suggestCharts:', error);\n",
              "          }\n",
              "          quickchartButtonEl.classList.remove('colab-df-spinner');\n",
              "          quickchartButtonEl.classList.add('colab-df-quickchart-complete');\n",
              "        }\n",
              "        (() => {\n",
              "          let quickchartButtonEl =\n",
              "            document.querySelector('#df-d4f207fc-5626-4623-8648-60420b692689 button');\n",
              "          quickchartButtonEl.style.display =\n",
              "            google.colab.kernel.accessAllowed ? 'block' : 'none';\n",
              "        })();\n",
              "      </script>\n",
              "    </div>\n",
              "\n",
              "    </div>\n",
              "  </div>\n"
            ],
            "application/vnd.google.colaboratory.intrinsic+json": {
              "type": "dataframe",
              "summary": "{\n  \"name\": \"df\",\n  \"rows\": 12,\n  \"fields\": [\n    {\n      \"column\": \"Date\",\n      \"properties\": {\n        \"dtype\": \"object\",\n        \"num_unique_values\": 12,\n        \"samples\": [\n          \"2023-07-11\",\n          \"2023-10-13\",\n          \"2023-12-21\"\n        ],\n        \"semantic_type\": \"\",\n        \"description\": \"\"\n      }\n    },\n    {\n      \"column\": \"Location\",\n      \"properties\": {\n        \"dtype\": \"string\",\n        \"num_unique_values\": 12,\n        \"samples\": [\n          \"New Zealand\",\n          \"India\",\n          \"Fiji\"\n        ],\n        \"semantic_type\": \"\",\n        \"description\": \"\"\n      }\n    },\n    {\n      \"column\": \"Magnitude\",\n      \"properties\": {\n        \"dtype\": \"number\",\n        \"std\": 0.7994316162692773,\n        \"min\": 5.9,\n        \"max\": 8.3,\n        \"num_unique_values\": 12,\n        \"samples\": [\n          6.2,\n          6.4,\n          8.3\n        ],\n        \"semantic_type\": \"\",\n        \"description\": \"\"\n      }\n    },\n    {\n      \"column\": \"Depth_km\",\n      \"properties\": {\n        \"dtype\": \"number\",\n        \"std\": 19,\n        \"min\": 10,\n        \"max\": 80,\n        \"num_unique_values\": 12,\n        \"samples\": [\n          35,\n          45,\n          33\n        ],\n        \"semantic_type\": \"\",\n        \"description\": \"\"\n      }\n    },\n    {\n      \"column\": \"Tsunami\",\n      \"properties\": {\n        \"dtype\": \"number\",\n        \"std\": 0,\n        \"min\": 0,\n        \"max\": 1,\n        \"num_unique_values\": 2,\n        \"samples\": [\n          0,\n          1\n        ],\n        \"semantic_type\": \"\",\n        \"description\": \"\"\n      }\n    },\n    {\n      \"column\": \"Fatalities\",\n      \"properties\": {\n        \"dtype\": \"number\",\n        \"std\": 391,\n        \"min\": 3,\n        \"max\": 1200,\n        \"num_unique_values\": 12,\n        \"samples\": [\n          8,\n          10\n        ],\n        \"semantic_type\": \"\",\n        \"description\": \"\"\n      }\n    },\n    {\n      \"column\": \"Damage_MillionUSD\",\n      \"properties\": {\n        \"dtype\": \"number\",\n        \"std\": 861,\n        \"min\": 15,\n        \"max\": 2500,\n        \"num_unique_values\": 12,\n        \"samples\": [\n          20,\n          40\n        ],\n        \"semantic_type\": \"\",\n        \"description\": \"\"\n      }\n    }\n  ]\n}"
            }
          },
          "metadata": {},
          "execution_count": 13
        }
      ]
    },
    {
      "cell_type": "code",
      "source": [
        "# Create an impact score (weighted combination)\n",
        "df[\"Impact_Score\"] = df[\"Fatalities\"] * 0.6 + df[\"Damage_MillionUSD\"] * 0.4\n",
        "\n",
        "# Sort and get top 3\n",
        "top3 = df.sort_values(by=\"Impact_Score\", ascending=False).head(3)\n",
        "print(top3[[\"Date\", \"Location\", \"Magnitude\", \"Fatalities\", \"Damage_MillionUSD\", \"Impact_Score\"]])\n"
      ],
      "metadata": {
        "colab": {
          "base_uri": "https://localhost:8080/"
        },
        "id": "qgDbFRxw8gjw",
        "outputId": "b9ab14bc-51c9-4741-bb2e-b0ca7657fc4c"
      },
      "execution_count": null,
      "outputs": [
        {
          "output_type": "stream",
          "name": "stdout",
          "text": [
            "          Date   Location  Magnitude  Fatalities  Damage_MillionUSD  \\\n",
            "2   2023-03-05  Indonesia        8.1        1200               2500   \n",
            "11  2023-12-21       Fiji        8.3         890               2000   \n",
            "10  2023-11-07     Turkey        7.9         430               1300   \n",
            "\n",
            "    Impact_Score  \n",
            "2         1720.0  \n",
            "11        1334.0  \n",
            "10         778.0  \n"
          ]
        }
      ]
    },
    {
      "cell_type": "code",
      "source": [
        "# Calculate correlation matrix\n",
        "corr = df[[\"Magnitude\", \"Depth_km\", \"Fatalities\", \"Damage_MillionUSD\"]].corr()\n",
        "\n",
        "# Display correlation matrix\n",
        "print(corr)\n"
      ],
      "metadata": {
        "colab": {
          "base_uri": "https://localhost:8080/"
        },
        "id": "0ujKf3S39BYM",
        "outputId": "005f85d7-a3bb-4c6d-a7ce-de5edbde951e"
      },
      "execution_count": null,
      "outputs": [
        {
          "output_type": "stream",
          "name": "stdout",
          "text": [
            "                   Magnitude  Depth_km  Fatalities  Damage_MillionUSD\n",
            "Magnitude           1.000000 -0.195051    0.754507           0.823807\n",
            "Depth_km           -0.195051  1.000000   -0.442018          -0.480342\n",
            "Fatalities          0.754507 -0.442018    1.000000           0.968679\n",
            "Damage_MillionUSD   0.823807 -0.480342    0.968679           1.000000\n"
          ]
        }
      ]
    },
    {
      "cell_type": "code",
      "source": [
        "# Convert Date to datetime\n",
        "df[\"Date\"] = pd.to_datetime(df[\"Date\"])\n",
        "\n",
        "# Extract month name\n",
        "df[\"Month\"] = df[\"Date\"].dt.month_name()\n",
        "\n",
        "# Group by month and sum damages\n",
        "monthly_damage = df.groupby(\"Month\")[\"Damage_MillionUSD\"].sum().sort_values(ascending=False)\n",
        "\n",
        "print(monthly_damage)\n"
      ],
      "metadata": {
        "colab": {
          "base_uri": "https://localhost:8080/"
        },
        "id": "h7eOxKEw9Bci",
        "outputId": "3f339168-371e-4061-a685-527e6d44db58"
      },
      "execution_count": null,
      "outputs": [
        {
          "output_type": "stream",
          "name": "stdout",
          "text": [
            "Month\n",
            "March        2500\n",
            "December     2000\n",
            "November     1300\n",
            "January      1200\n",
            "May           700\n",
            "August        400\n",
            "June           90\n",
            "February       80\n",
            "April          60\n",
            "October        40\n",
            "July           20\n",
            "September      15\n",
            "Name: Damage_MillionUSD, dtype: int64\n"
          ]
        }
      ]
    },
    {
      "cell_type": "code",
      "source": [
        "# Group by Tsunami and compute mean fatalities and damage\n",
        "impact_comparison = df.groupby(\"Tsunami\")[[\"Fatalities\", \"Damage_MillionUSD\"]].mean()\n",
        "\n",
        "print(impact_comparison)\n"
      ],
      "metadata": {
        "colab": {
          "base_uri": "https://localhost:8080/"
        },
        "id": "XBhkKA7l9Bf5",
        "outputId": "a9800757-adb9-41a0-e292-8b7a16770905"
      },
      "execution_count": null,
      "outputs": [
        {
          "output_type": "stream",
          "name": "stdout",
          "text": [
            "         Fatalities  Damage_MillionUSD\n",
            "Tsunami                               \n",
            "0         10.166667          50.833333\n",
            "1        555.000000        1350.000000\n"
          ]
        }
      ]
    },
    {
      "cell_type": "code",
      "source": [
        "high_risk = df[(df[\"Magnitude\"] > 7.5) & (df[\"Fatalities\"] > 300)]\n",
        "print(high_risk[[\"Location\", \"Magnitude\", \"Fatalities\", \"Damage_MillionUSD\"]])\n"
      ],
      "metadata": {
        "colab": {
          "base_uri": "https://localhost:8080/"
        },
        "id": "FVFEUiuj9BjX",
        "outputId": "f177cf3b-90ce-43a8-b6ad-9f9ab5badc6c"
      },
      "execution_count": null,
      "outputs": [
        {
          "output_type": "stream",
          "name": "stdout",
          "text": [
            "     Location  Magnitude  Fatalities  Damage_MillionUSD\n",
            "2   Indonesia        8.1        1200               2500\n",
            "10     Turkey        7.9         430               1300\n",
            "11       Fiji        8.3         890               2000\n"
          ]
        }
      ]
    },
    {
      "cell_type": "code",
      "source": [
        "median_values = df.groupby(\"Tsunami\")[[\"Magnitude\", \"Fatalities\"]].median()\n",
        "print(median_values)\n"
      ],
      "metadata": {
        "colab": {
          "base_uri": "https://localhost:8080/"
        },
        "id": "DyhZ4YJR9BmL",
        "outputId": "b4a92650-f94f-4c80-a7f5-0c954ec76aa5"
      },
      "execution_count": null,
      "outputs": [
        {
          "output_type": "stream",
          "name": "stdout",
          "text": [
            "         Magnitude  Fatalities\n",
            "Tsunami                       \n",
            "0             6.45         9.0\n",
            "1             7.85       385.0\n"
          ]
        }
      ]
    },
    {
      "cell_type": "code",
      "source": [
        "import matplotlib.pyplot as plt\n",
        "import seaborn as sns\n",
        "\n",
        "sns.scatterplot(\n",
        "    data=df,\n",
        "    x=\"Magnitude\",\n",
        "    y=\"Damage_MillionUSD\",\n",
        "    hue=\"Tsunami\",\n",
        "    palette={0: \"blue\", 1: \"red\"},\n",
        "    s=100\n",
        ")\n",
        "plt.title(\"Earthquake Magnitude vs. Damage (Tsunami Highlighted)\")\n",
        "plt.xlabel(\"Magnitude\")\n",
        "plt.ylabel(\"Damage (Million USD)\")\n",
        "plt.show()\n"
      ],
      "metadata": {
        "colab": {
          "base_uri": "https://localhost:8080/",
          "height": 472
        },
        "id": "4EuGZs0Y9BpM",
        "outputId": "e5fa0c34-a193-40e5-f4f4-98b12813ffce"
      },
      "execution_count": null,
      "outputs": [
        {
          "output_type": "display_data",
          "data": {
            "text/plain": [
              "<Figure size 640x480 with 1 Axes>"
            ],
            "image/png": "[encoded data removed]"
          },
          "metadata": {}
        }
      ]
    },
    {
      "cell_type": "code",
      "source": [
        "fatal_by_location = df.groupby(\"Location\")[\"Fatalities\"].sum().sort_values(ascending=False)\n",
        "\n",
        "fatal_by_location.plot(kind=\"bar\", color=\"orange\", figsize=(8,4))\n",
        "plt.title(\"Total Fatalities by Location\")\n",
        "plt.xlabel(\"Location\")\n",
        "plt.ylabel(\"Total Fatalities\")\n",
        "plt.xticks(rotation=45)\n",
        "plt.show()\n"
      ],
      "metadata": {
        "colab": {
          "base_uri": "https://localhost:8080/",
          "height": 471
        },
        "id": "FikBbqOF9Bsu",
        "outputId": "016c9763-97cb-410a-a6dd-2a3134a0184c"
      },
      "execution_count": null,
      "outputs": [
        {
          "output_type": "display_data",
          "data": {
            "text/plain": [
              "<Figure size 800x400 with 1 Axes>"
            ],
            "image/png": "[encoded data removed]"
          },
          "metadata": {}
        }
      ]
    },
    {
      "cell_type": "code",
      "source": [
        "print(df.head())"
      ],
      "metadata": {
        "colab": {
          "base_uri": "https://localhost:8080/"
        },
        "id": "Vj42fuIwCyG3",
        "outputId": "1aa33c06-6b8b-4978-8709-c84de5876ecc"
      },
      "execution_count": null,
      "outputs": [
        {
          "output_type": "stream",
          "name": "stdout",
          "text": [
            "        Date     Location  Magnitude  Depth_km  Tsunami  Fatalities  \\\n",
            "0 2023-01-14        Japan        7.8        30        1         250   \n",
            "1 2023-02-10        Chile        6.5        50        0          15   \n",
            "2 2023-03-05    Indonesia        8.1        20        1        1200   \n",
            "3 2023-04-20       Alaska        7.3        80        0           5   \n",
            "4 2023-05-18  Philippines        6.8        40        1         340   \n",
            "\n",
            "   Damage_MillionUSD  Impact_Score     Month  \n",
            "0               1200         630.0   January  \n",
            "1                 80          41.0  February  \n",
            "2               2500        1720.0     March  \n",
            "3                 60          27.0     April  \n",
            "4                700         484.0       May  \n"
          ]
        }
      ]
    },
    {
      "cell_type": "code",
      "source": [
        "df.shape"
      ],
      "metadata": {
        "colab": {
          "base_uri": "https://localhost:8080/"
        },
        "id": "_cYUoIfD0fwn",
        "outputId": "1c7f1418-8743-4b89-c0aa-e72a40a6d97a"
      },
      "execution_count": null,
      "outputs": [
        {
          "output_type": "execute_result",
          "data": {
            "text/plain": [
              "(12, 9)"
            ]
          },
          "metadata": {},
          "execution_count": 27
        }
      ]
    },
    {
      "cell_type": "code",
      "source": [
        "print(df['Date'].min())\n",
        "print(df['Date'].max())"
      ],
      "metadata": {
        "colab": {
          "base_uri": "https://localhost:8080/"
        },
        "id": "YZyhnsBdDkMn",
        "outputId": "831fb64d-74be-4c2b-9aea-c174ce0fa32b"
      },
      "execution_count": null,
      "outputs": [
        {
          "output_type": "stream",
          "name": "stdout",
          "text": [
            "2023-01-14 00:00:00\n",
            "2023-12-21 00:00:00\n"
          ]
        }
      ]
    },
    {
      "cell_type": "code",
      "source": [
        "print(df[['Magnitude','Depth_km']].describe())"
      ],
      "metadata": {
        "colab": {
          "base_uri": "https://localhost:8080/"
        },
        "id": "_yBubw5dDkPL",
        "outputId": "0030eafb-9abb-42da-b029-11f90ca21576"
      },
      "execution_count": null,
      "outputs": [
        {
          "output_type": "stream",
          "name": "stdout",
          "text": [
            "       Magnitude   Depth_km\n",
            "count  12.000000  12.000000\n",
            "mean    7.150000  36.916667\n",
            "std     0.799432  19.851532\n",
            "min     5.900000  10.000000\n",
            "25%     6.475000  23.750000\n",
            "50%     7.150000  34.000000\n",
            "75%     7.825000  46.250000\n",
            "max     8.300000  80.000000\n"
          ]
        }
      ]
    },
    {
      "cell_type": "code",
      "source": [
        "print(df.groupby('Location')['Depth_km'].mean())"
      ],
      "metadata": {
        "colab": {
          "base_uri": "https://localhost:8080/"
        },
        "id": "ZOaT8C5tDkRb",
        "outputId": "10393b8e-841e-4243-d27e-6b4cb02c0342"
      },
      "execution_count": null,
      "outputs": [
        {
          "output_type": "stream",
          "name": "stdout",
          "text": [
            "Location\n",
            "Alaska         80.0\n",
            "Chile          50.0\n",
            "Fiji           33.0\n",
            "Greece         15.0\n",
            "India          45.0\n",
            "Indonesia      20.0\n",
            "Japan          30.0\n",
            "Mexico         60.0\n",
            "New Zealand    35.0\n",
            "Peru           25.0\n",
            "Philippines    40.0\n",
            "Turkey         10.0\n",
            "Name: Depth_km, dtype: float64\n"
          ]
        }
      ]
    },
    {
      "cell_type": "code",
      "source": [
        "df['strength'] = df['Magnitude'].apply(lambda x: 'Strong' if x > 6.5 else 'Moderate')\n",
        "print(df.head())"
      ],
      "metadata": {
        "colab": {
          "base_uri": "https://localhost:8080/"
        },
        "id": "L1FLKSwUGOGL",
        "outputId": "e4e4fd77-f5d9-45de-a84b-d5912c588f28"
      },
      "execution_count": null,
      "outputs": [
        {
          "output_type": "stream",
          "name": "stdout",
          "text": [
            "        Date     Location  Magnitude  Depth_km  Tsunami  Fatalities  \\\n",
            "0 2023-01-14        Japan        7.8        30        1         250   \n",
            "1 2023-02-10        Chile        6.5        50        0          15   \n",
            "2 2023-03-05    Indonesia        8.1        20        1        1200   \n",
            "3 2023-04-20       Alaska        7.3        80        0           5   \n",
            "4 2023-05-18  Philippines        6.8        40        1         340   \n",
            "\n",
            "   Damage_MillionUSD  Impact_Score     Month  strength  \n",
            "0               1200         630.0   January    Strong  \n",
            "1                 80          41.0  February  Moderate  \n",
            "2               2500        1720.0     March    Strong  \n",
            "3                 60          27.0     April    Strong  \n",
            "4                700         484.0       May    Strong  \n"
          ]
        }
      ]
    },
    {
      "cell_type": "code",
      "source": [
        "print(df['Date'].min())\n",
        "print(df['Date'].max())"
      ],
      "metadata": {
        "colab": {
          "base_uri": "https://localhost:8080/"
        },
        "id": "XQkh_Ky2GOSj",
        "outputId": "912c2b35-e225-4ba3-f3ad-852089574761"
      },
      "execution_count": null,
      "outputs": [
        {
          "output_type": "stream",
          "name": "stdout",
          "text": [
            "2023-01-14 00:00:00\n",
            "2023-12-21 00:00:00\n"
          ]
        }
      ]
    },
    {
      "cell_type": "code",
      "source": [
        "print(df.groupby('Location')['Magnitude'].max())"
      ],
      "metadata": {
        "colab": {
          "base_uri": "https://localhost:8080/"
        },
        "id": "431loW7hGOj3",
        "outputId": "f1298935-be85-45cf-e4bf-b81fe1fbbb19"
      },
      "execution_count": null,
      "outputs": [
        {
          "output_type": "stream",
          "name": "stdout",
          "text": [
            "Location\n",
            "Alaska         7.3\n",
            "Chile          6.5\n",
            "Fiji           8.3\n",
            "Greece         5.9\n",
            "India          6.4\n",
            "Indonesia      8.1\n",
            "Japan          7.8\n",
            "Mexico         7.0\n",
            "New Zealand    6.2\n",
            "Peru           7.6\n",
            "Philippines    6.8\n",
            "Turkey         7.9\n",
            "Name: Magnitude, dtype: float64\n"
          ]
        }
      ]
    },
    {
      "cell_type": "code",
      "source": [
        "print(df['Location'].value_counts())"
      ],
      "metadata": {
        "colab": {
          "base_uri": "https://localhost:8080/"
        },
        "id": "VQ8aaYb4DkU7",
        "outputId": "3a989cb4-5a97-4244-995d-0fe8218a2282"
      },
      "execution_count": null,
      "outputs": [
        {
          "output_type": "stream",
          "name": "stdout",
          "text": [
            "Location\n",
            "Japan          1\n",
            "Chile          1\n",
            "Indonesia      1\n",
            "Alaska         1\n",
            "Philippines    1\n",
            "Mexico         1\n",
            "New Zealand    1\n",
            "Peru           1\n",
            "Greece         1\n",
            "India          1\n",
            "Turkey         1\n",
            "Fiji           1\n",
            "Name: count, dtype: int64\n"
          ]
        }
      ]
    },
    {
      "cell_type": "code",
      "source": [
        "print(df.isnull().sum())"
      ],
      "metadata": {
        "colab": {
          "base_uri": "https://localhost:8080/"
        },
        "id": "58s8u7rSHsI8",
        "outputId": "6d2e11b7-4612-403b-ba55-d9bd6f91504e"
      },
      "execution_count": null,
      "outputs": [
        {
          "output_type": "stream",
          "name": "stdout",
          "text": [
            "Date                 0\n",
            "Location             0\n",
            "Magnitude            0\n",
            "Depth_km             0\n",
            "Tsunami              0\n",
            "Fatalities           0\n",
            "Damage_MillionUSD    0\n",
            "Impact_Score         0\n",
            "Month                0\n",
            "strength             0\n",
            "dtype: int64\n"
          ]
        }
      ]
    },
    {
      "cell_type": "code",
      "source": [
        "print(df[df['Tsunami'] == 1]['Magnitude'].mean())"
      ],
      "metadata": {
        "colab": {
          "base_uri": "https://localhost:8080/"
        },
        "id": "Rc2XJJaCHsL1",
        "outputId": "1e200376-d7ff-4f46-c0a3-78eb550e42a1"
      },
      "execution_count": null,
      "outputs": [
        {
          "output_type": "stream",
          "name": "stdout",
          "text": [
            "7.75\n"
          ]
        }
      ]
    },
    {
      "cell_type": "code",
      "source": [
        "df = df.drop(columns=['Tsunami'])\n",
        "print(df.head())"
      ],
      "metadata": {
        "colab": {
          "base_uri": "https://localhost:8080/"
        },
        "id": "-vTLP20QHsOg",
        "outputId": "f2143007-7316-4852-d4b7-fe9fa19da90d"
      },
      "execution_count": null,
      "outputs": [
        {
          "output_type": "stream",
          "name": "stdout",
          "text": [
            "        Date     Location  Magnitude  Depth_km  Fatalities  Damage_MillionUSD  \\\n",
            "0 2023-01-14        Japan        7.8        30         250               1200   \n",
            "1 2023-02-10        Chile        6.5        50          15                 80   \n",
            "2 2023-03-05    Indonesia        8.1        20        1200               2500   \n",
            "3 2023-04-20       Alaska        7.3        80           5                 60   \n",
            "4 2023-05-18  Philippines        6.8        40         340                700   \n",
            "\n",
            "   Impact_Score     Month  strength  \n",
            "0         630.0   January    Strong  \n",
            "1          41.0  February  Moderate  \n",
            "2        1720.0     March    Strong  \n",
            "3          27.0     April    Strong  \n",
            "4         484.0       May    Strong  \n"
          ]
        }
      ]
    },
    {
      "cell_type": "code",
      "source": [
        "df = df.rename(columns={'Depth_km':'Depth'})\n",
        "print(df.head())"
      ],
      "metadata": {
        "colab": {
          "base_uri": "https://localhost:8080/"
        },
        "id": "fqnYcpllHsQ_",
        "outputId": "8738e339-584b-4803-b9bd-091eb51b17cb"
      },
      "execution_count": null,
      "outputs": [
        {
          "output_type": "stream",
          "name": "stdout",
          "text": [
            "        Date     Location  Magnitude  Depth  Fatalities  Damage_MillionUSD  \\\n",
            "0 2023-01-14        Japan        7.8     30         250               1200   \n",
            "1 2023-02-10        Chile        6.5     50          15                 80   \n",
            "2 2023-03-05    Indonesia        8.1     20        1200               2500   \n",
            "3 2023-04-20       Alaska        7.3     80           5                 60   \n",
            "4 2023-05-18  Philippines        6.8     40         340                700   \n",
            "\n",
            "   Impact_Score     Month  strength  \n",
            "0         630.0   January    Strong  \n",
            "1          41.0  February  Moderate  \n",
            "2        1720.0     March    Strong  \n",
            "3          27.0     April    Strong  \n",
            "4         484.0       May    Strong  \n"
          ]
        }
      ]
    },
    {
      "cell_type": "code",
      "source": [
        "df[\"Date\"] = pd.to_datetime(df[\"Date\"])\n",
        "df[\"Month\"] = df[\"Date\"].dt.month_name()\n",
        "\n",
        "strongest_each_month = df.loc[df.groupby(\"Month\")[\"Magnitude\"].idxmax(), [\"Month\", \"Location\", \"Magnitude\"]]\n",
        "print(strongest_each_month)\n"
      ],
      "metadata": {
        "colab": {
          "base_uri": "https://localhost:8080/"
        },
        "id": "2DbjS7MJHsTI",
        "outputId": "ec7d640c-0895-4987-d74a-df0969409dee"
      },
      "execution_count": null,
      "outputs": [
        {
          "output_type": "stream",
          "name": "stdout",
          "text": [
            "        Month     Location  Magnitude\n",
            "3       April       Alaska        7.3\n",
            "7      August         Peru        7.6\n",
            "11   December         Fiji        8.3\n",
            "1    February        Chile        6.5\n",
            "0     January        Japan        7.8\n",
            "6        July  New Zealand        6.2\n",
            "5        June       Mexico        7.0\n",
            "2       March    Indonesia        8.1\n",
            "4         May  Philippines        6.8\n",
            "10   November       Turkey        7.9\n",
            "9     October        India        6.4\n",
            "8   September       Greece        5.9\n"
          ]
        }
      ]
    },
    {
      "cell_type": "code",
      "source": [
        "region_map = {\n",
        "    \"Japan\": \"Asia\",\n",
        "    \"Chile\": \"South America\",\n",
        "    \"Indonesia\": \"Asia\",\n",
        "    \"Alaska\": \"North America\",\n",
        "    \"Philippines\": \"Asia\",\n",
        "    \"Mexico\": \"North America\",\n",
        "    \"New Zealand\": \"Oceania\",\n",
        "    \"Peru\": \"South America\",\n",
        "    \"Greece\": \"Europe\",\n",
        "    \"India\": \"Asia\",\n",
        "    \"Turkey\": \"Europe\",\n",
        "    \"Fiji\": \"Oceania\"\n",
        "}\n",
        "\n",
        "df[\"Region\"] = df[\"Location\"].map(region_map)\n",
        "\n",
        "region_summary = df.groupby(\"Region\")[[\"Fatalities\", \"Damage_MillionUSD\"]].mean().round(2)\n",
        "print(region_summary)\n"
      ],
      "metadata": {
        "colab": {
          "base_uri": "https://localhost:8080/"
        },
        "id": "fib1MqfJHsWm",
        "outputId": "8aa7442b-bacf-410c-b43a-906ec5dedeab"
      },
      "execution_count": null,
      "outputs": [
        {
          "output_type": "stream",
          "name": "stdout",
          "text": [
            "               Fatalities  Damage_MillionUSD\n",
            "Region                                      \n",
            "Asia                450.0             1110.0\n",
            "Europe              216.5              657.5\n",
            "North America        12.5               75.0\n",
            "Oceania             449.0             1010.0\n",
            "South America       117.5              240.0\n"
          ]
        }
      ]
    },
    {
      "cell_type": "code",
      "source": [
        "median_mag = df[\"Magnitude\"].median()\n",
        "df[\"Magnitude_Level\"] = df[\"Magnitude\"].apply(lambda x: \"Above Median\" if x > median_mag else \"Below Median\")\n",
        "\n",
        "print(df[[\"Location\", \"Magnitude\", \"Magnitude_Level\"]])\n"
      ],
      "metadata": {
        "colab": {
          "base_uri": "https://localhost:8080/"
        },
        "id": "LfQ83HD5K3SJ",
        "outputId": "6abd3a6c-8e38-46ac-ded5-c6855593cce6"
      },
      "execution_count": null,
      "outputs": [
        {
          "output_type": "stream",
          "name": "stdout",
          "text": [
            "       Location  Magnitude Magnitude_Level\n",
            "0         Japan        7.8    Above Median\n",
            "1         Chile        6.5    Below Median\n",
            "2     Indonesia        8.1    Above Median\n",
            "3        Alaska        7.3    Above Median\n",
            "4   Philippines        6.8    Below Median\n",
            "5        Mexico        7.0    Below Median\n",
            "6   New Zealand        6.2    Below Median\n",
            "7          Peru        7.6    Above Median\n",
            "8        Greece        5.9    Below Median\n",
            "9         India        6.4    Below Median\n",
            "10       Turkey        7.9    Above Median\n",
            "11         Fiji        8.3    Above Median\n"
          ]
        }
      ]
    },
    {
      "cell_type": "code",
      "source": [
        "plt.hist(df[\"Magnitude\"], bins=6, color=\"skyblue\", edgecolor=\"black\")\n",
        "plt.title(\"Distribution of Earthquake Magnitudes\")\n",
        "plt.xlabel(\"Magnitude\")\n",
        "plt.ylabel(\"Frequency\")\n",
        "plt.show()\n"
      ],
      "metadata": {
        "colab": {
          "base_uri": "https://localhost:8080/",
          "height": 472
        },
        "id": "i8ymDQR7K3Vc",
        "outputId": "6175df31-b14c-4151-f699-a82e177566b3"
      },
      "execution_count": null,
      "outputs": [
        {
          "output_type": "display_data",
          "data": {
            "text/plain": [
              "<Figure size 640x480 with 1 Axes>"
            ],
            "image/png": "[encoded data removed]"
          },
          "metadata": {}
        }
      ]
    },
    {
      "cell_type": "code",
      "source": [
        "plt.figure(figsize=(7,5))\n",
        "plt.scatter(\n",
        "    df[\"Damage_MillionUSD\"],\n",
        "    df[\"Fatalities\"],\n",
        "    s=df[\"Magnitude\"]*30,\n",
        "    alpha=0.6\n",
        ")\n",
        "plt.title(\"Damage vs Fatalities (Bubble Size = Magnitude)\")\n",
        "plt.xlabel(\"Damage (Million USD)\")\n",
        "plt.ylabel(\"Fatalities\")\n",
        "plt.show()"
      ],
      "metadata": {
        "colab": {
          "base_uri": "https://localhost:8080/",
          "height": 487
        },
        "id": "meIGIlN8K3Y0",
        "outputId": "97077950-da03-49ac-fe8c-d7b0a752ec1c"
      },
      "execution_count": null,
      "outputs": [
        {
          "output_type": "display_data",
          "data": {
            "text/plain": [
              "<Figure size 700x500 with 1 Axes>"
            ],
            "image/png": "[encoded data removed]"
          },
          "metadata": {}
        }
      ]
    },
    {
      "cell_type": "code",
      "source": [
        "bins = [5.0, 6.0, 7.0, 8.0, 9.0]\n",
        "labels = [\"5.0–5.9\", \"6.0–6.9\", \"7.0–7.9\", \"8.0–8.9\"]\n",
        "df[\"Mag_Range\"] = pd.cut(df[\"Magnitude\"], bins=bins, labels=labels)\n",
        "\n",
        "avg_fatalities = df.groupby(\"Mag_Range\")[\"Fatalities\"].mean()\n",
        "avg_fatalities.plot(kind=\"bar\", color=\"teal\", title=\"Average Fatalities by Magnitude Range\")\n",
        "plt.xlabel(\"Magnitude Range\")\n",
        "plt.ylabel(\"Average Fatalities\")\n",
        "plt.show()\n"
      ],
      "metadata": {
        "colab": {
          "base_uri": "https://localhost:8080/",
          "height": 564
        },
        "id": "0nUOYN9MK3bc",
        "outputId": "7a0a6be9-cbdf-425b-903c-e4f59f44147d"
      },
      "execution_count": null,
      "outputs": [
        {
          "output_type": "stream",
          "name": "stderr",
          "text": [
            "/tmp/ipython-input-1129532561.py:5: FutureWarning: The default of observed=False is deprecated and will be changed to True in a future version of pandas. Pass observed=False to retain current behavior or observed=True to adopt the future default and silence this warning.\n",
            "  avg_fatalities = df.groupby(\"Mag_Range\")[\"Fatalities\"].mean()\n"
          ]
        },
        {
          "output_type": "display_data",
          "data": {
            "text/plain": [
              "<Figure size 640x480 with 1 Axes>"
            ],
            "image/png": "[encoded data removed]"
          },
          "metadata": {}
        }
      ]
    },
    {
      "cell_type": "code",
      "source": [
        "high_fatal_low_mag = df[(df[\"Fatalities\"] > df[\"Fatalities\"].mean()) & (df[\"Magnitude\"] < df[\"Magnitude\"].mean())]\n",
        "print(high_fatal_low_mag[[\"Location\", \"Magnitude\", \"Fatalities\"]])\n"
      ],
      "metadata": {
        "colab": {
          "base_uri": "https://localhost:8080/"
        },
        "id": "AQXY7riRK3eg",
        "outputId": "c605a5e7-5c67-4b7b-aa97-72fc8e2c2ac8"
      },
      "execution_count": null,
      "outputs": [
        {
          "output_type": "stream",
          "name": "stdout",
          "text": [
            "      Location  Magnitude  Fatalities\n",
            "4  Philippines        6.8         340\n"
          ]
        }
      ]
    },
    {
      "cell_type": "code",
      "source": [
        "contains_a = df[df[\"Location\"].str.contains(\"a\", case=False)]\n",
        "print(contains_a[[\"Location\", \"Magnitude\", \"Fatalities\"]])\n"
      ],
      "metadata": {
        "colab": {
          "base_uri": "https://localhost:8080/"
        },
        "id": "Dw-ILC2UMPC4",
        "outputId": "6f3d4c94-da07-4c22-bf8e-8dd682bd2786"
      },
      "execution_count": null,
      "outputs": [
        {
          "output_type": "stream",
          "name": "stdout",
          "text": [
            "      Location  Magnitude  Fatalities\n",
            "0        Japan        7.8         250\n",
            "2    Indonesia        8.1        1200\n",
            "3       Alaska        7.3           5\n",
            "6  New Zealand        6.2           8\n",
            "9        India        6.4          10\n"
          ]
        }
      ]
    },
    {
      "cell_type": "code",
      "source": [
        "df[\"Location_Length\"] = df[\"Location\"].str.len()\n",
        "print(df[[\"Location\", \"Location_Length\"]])\n"
      ],
      "metadata": {
        "id": "TCoq63YxMbrI",
        "outputId": "c61ceff0-df5b-42c5-b9ba-013bf1dde0ca",
        "colab": {
          "base_uri": "https://localhost:8080/"
        }
      },
      "execution_count": null,
      "outputs": [
        {
          "output_type": "stream",
          "name": "stdout",
          "text": [
            "       Location  Location_Length\n",
            "0         Japan                5\n",
            "1         Chile                5\n",
            "2     Indonesia                9\n",
            "3        Alaska                6\n",
            "4   Philippines               11\n",
            "5        Mexico                6\n",
            "6   New Zealand               11\n",
            "7          Peru                4\n",
            "8        Greece                6\n",
            "9         India                5\n",
            "10       Turkey                6\n",
            "11         Fiji                4\n"
          ]
        }
      ]
    },
    {
      "cell_type": "code",
      "source": [],
      "metadata": {
        "id": "TiZQBE2WMbt3"
      },
      "execution_count": null,
      "outputs": []
    },
    {
      "cell_type": "code",
      "source": [],
      "metadata": {
        "id": "KPbrtN4gMbxn"
      },
      "execution_count": null,
      "outputs": []
    },
    {
      "cell_type": "code",
      "source": [],
      "metadata": {
        "id": "jQvCrJvMMb0R"
      },
      "execution_count": null,
      "outputs": []
    },
    {
      "cell_type": "code",
      "source": [],
      "metadata": {
        "id": "UK7Mnp1jMb21"
      },
      "execution_count": null,
      "outputs": []
    },
    {
      "cell_type": "code",
      "source": [],
      "metadata": {
        "id": "ldxnI9yPMb6P"
      },
      "execution_count": null,
      "outputs": []
    },
    {
      "cell_type": "code",
      "source": [],
      "metadata": {
        "id": "HoDUOxxuK3jp"
      },
      "execution_count": null,
      "outputs": []
    },
    {
      "cell_type": "markdown",
      "metadata": {
        "id": "YHI3vyhv5p85"
      },
      "source": [
        "## **Introduction to Colab and Python**"
      ]
    },
    {
      "cell_type": "markdown",
      "metadata": {
        "id": "OVi775ZJ2bsy"
      },
      "source": [
        "<table class=\"tfo-notebook-buttons\" align=\"left\">\n",
        "  <td>\n",
        "    <a target=\"_blank\" href=\"https://colab.research.google.com/github/tensorflow/examples/blob/master/courses/udacity_intro_to_tensorflow_for_deep_learning/l01c01_introduction_to_colab_and_python.ipynb\"><img src=\"https://www.tensorflow.org/images/colab_logo_32px.png\" />Run in Google Colab</a>\n",
        "  </td>\n",
        "  <td>\n",
        "    <a target=\"_blank\" href=\"https://github.com/tensorflow/examples/blob/master/courses/udacity_intro_to_tensorflow_for_deep_learning/l01c01_introduction_to_colab_and_python.ipynb\"><img src=\"https://www.tensorflow.org/images/GitHub-Mark-32px.png\" />View source on GitHub</a>\n",
        "  </td>\n",
        "</table>"
      ]
    },
    {
      "cell_type": "markdown",
      "metadata": {
        "id": "F8YVA_634OFk"
      },
      "source": [
        "Welcome to this Colab where you will get a quick introduction to the Python programming language and the environment used for the course's exercises: Colab.\n",
        "\n",
        "Colab is a Python development environment that runs in the browser using Google Cloud.\n",
        "\n",
        "For example, to print \"Hello World\", just hover the mouse over [ ] and press the play button to the upper left. Or press shift-enter to execute."
      ]
    },
    {
      "cell_type": "code",
      "execution_count": null,
      "metadata": {
        "id": "X9uIpOS2zx7k"
      },
      "outputs": [],
      "source": [
        "print(\"Hello World\")"
      ]
    },
    {
      "cell_type": "markdown",
      "metadata": {
        "id": "wwJGmDrQ0EoB"
      },
      "source": [
        "## Functions, Conditionals, and Iteration\n",
        "Let's create a Python function, and call it from a loop."
      ]
    },
    {
      "cell_type": "code",
      "execution_count": null,
      "metadata": {
        "id": "pRllo2HLfXiu"
      },
      "outputs": [],
      "source": [
        "def HelloWorldXY(x, y):\n",
        "  if (x < 10):\n",
        "    print(\"Hello World, x was < 10\")\n",
        "  elif (x < 20):\n",
        "    print(\"Hello World, x was >= 10 but < 20\")\n",
        "  else:\n",
        "    print(\"Hello World, x was >= 20\")\n",
        "  return x + y\n",
        "\n",
        "for i in range(8, 25, 5):  # i=8, 13, 18, 23 (start, stop, step)\n",
        "  print(\"--- Now running with i: {}\".format(i))\n",
        "  r = HelloWorldXY(i,i)\n",
        "  print(\"Result from HelloWorld: {}\".format(r))"
      ]
    },
    {
      "cell_type": "code",
      "execution_count": null,
      "metadata": {
        "id": "lHNmDCh0JpVP"
      },
      "outputs": [],
      "source": [
        "print(HelloWorldXY(1,2))"
      ]
    },
    {
      "cell_type": "markdown",
      "metadata": {
        "id": "kiZG7uhm8qCF"
      },
      "source": [
        "Easy, right?\n",
        "\n",
        "If you want a loop starting at 0 to 2 (exclusive) you could do any of the following"
      ]
    },
    {
      "cell_type": "code",
      "execution_count": null,
      "metadata": {
        "id": "m8YQN1H41L-Y"
      },
      "outputs": [],
      "source": [
        "print(\"Iterate over the items. `range(2)` is like a list [0,1].\")\n",
        "for i in range(2):\n",
        "  print(i)\n",
        "\n",
        "print(\"Iterate over an actual list.\")\n",
        "for i in [0,1]:\n",
        "  print(i)\n",
        "\n",
        "print(\"While works\")\n",
        "i = 0\n",
        "while i < 2:\n",
        "  print(i)\n",
        "  i += 1"
      ]
    },
    {
      "cell_type": "code",
      "execution_count": null,
      "metadata": {
        "id": "vIgmFZq4zszl"
      },
      "outputs": [],
      "source": [
        "print(\"Python supports standard key words like continue and break\")\n",
        "while True:\n",
        "  print(\"Entered while\")\n",
        "  break"
      ]
    },
    {
      "cell_type": "markdown",
      "metadata": {
        "id": "5QyOUhFw1OUX"
      },
      "source": [
        "## Numpy and lists\n",
        "Python has lists built into the language.\n",
        "However, we will use a library called numpy for this.\n",
        "Numpy gives you lots of support functions that are useful when doing Machine Learning.\n",
        "\n",
        "Here, you will also see an import statement. This statement makes the entire numpy package available and we can access those symbols using the abbreviated 'np' syntax."
      ]
    },
    {
      "cell_type": "code",
      "execution_count": null,
      "metadata": {
        "id": "4Dxk4q-jzEy4"
      },
      "outputs": [],
      "source": [
        "import numpy as np  # Make numpy available using np.\n",
        "\n",
        "# Create a numpy array, and append an element\n",
        "a = np.array([\"Hello\", \"World\"])\n",
        "a = np.append(a, \"!\")\n",
        "print(\"Current array: {}\".format(a))\n",
        "print(\"Printing each element\")\n",
        "for i in a:\n",
        "  print(i)\n",
        "\n",
        "print(\"\\nPrinting each element and their index\")\n",
        "for i,e in enumerate(a):\n",
        "  print(\"Index: {}, was: {}\".format(i, e))"
      ]
    },
    {
      "cell_type": "code",
      "execution_count": null,
      "metadata": {
        "id": "RTa8_9G3LV03"
      },
      "outputs": [],
      "source": [
        "print(\"\\nShowing some basic math on arrays\")\n",
        "b = np.array([0,1,4,3,2])\n",
        "print(\"Max: {}\".format(np.max(b)))\n",
        "print(\"Average: {}\".format(np.average(b)))\n",
        "print(\"Max index: {}\".format(np.argmax(b)))"
      ]
    },
    {
      "cell_type": "code",
      "execution_count": null,
      "metadata": {
        "id": "9YaGj5n4LW7P"
      },
      "outputs": [],
      "source": [
        "print(\"\\nYou can print the type of anything\")\n",
        "print(\"Type of b: {}, type of b[0]: {}\".format(type(b), type(b[0])))"
      ]
    },
    {
      "cell_type": "code",
      "execution_count": null,
      "metadata": {
        "id": "V6ilVhi9LXn_"
      },
      "outputs": [],
      "source": [
        "print(\"\\nUse numpy to create a [3,3] dimension array with random number\")\n",
        "c = np.random.rand(3, 3)\n",
        "print(c)"
      ]
    },
    {
      "cell_type": "code",
      "execution_count": null,
      "metadata": {
        "id": "W_Q-DkFCLYGA"
      },
      "outputs": [],
      "source": [
        "print(\"\\nYou can print the dimensions of arrays\")\n",
        "print(\"Shape of a: {}\".format(a.shape))\n",
        "print(\"Shape of b: {}\".format(b.shape))\n",
        "print(\"Shape of c: {}\".format(c.shape))\n",
        "print(\"...Observe, Python uses both [0,1,2] and (0,1,2) to specify lists\")"
      ]
    },
    {
      "cell_type": "markdown",
      "metadata": {
        "id": "c-Jk4dG91dvD"
      },
      "source": [
        "## Colab Specifics"
      ]
    },
    {
      "cell_type": "markdown",
      "metadata": {
        "id": "G0cGd8sHEmKi"
      },
      "source": [
        "Colab is a virtual machine you can access directly. To run commands at the VM's terminal, prefix the line with an exclamation point (!).\n"
      ]
    },
    {
      "cell_type": "code",
      "execution_count": null,
      "metadata": {
        "id": "cLkfhyzq0W2y"
      },
      "outputs": [],
      "source": [
        "print(\"\\nDoing $ls on filesystem\")\n",
        "!ls -l\n",
        "!pwd"
      ]
    },
    {
      "cell_type": "code",
      "execution_count": null,
      "metadata": {
        "id": "gR2WTN1cOZ1n"
      },
      "outputs": [],
      "source": [
        "print(\"Install numpy\")  # Just for test, numpy is actually preinstalled in all Colab instances\n",
        "!pip install numpy"
      ]
    },
    {
      "cell_type": "markdown",
      "metadata": {
        "id": "QuWRpQdatAIU"
      },
      "source": [
        "**Exercise**\n",
        "\n",
        "Create a code cell underneath this text cell and add code to:\n",
        "\n",
        "\n",
        "*   List the path of the current directory (pwd)\n",
        "* Go to / (cd) and list the content (ls -l)"
      ]
    },
    {
      "cell_type": "code",
      "execution_count": null,
      "metadata": {
        "id": "xU-cJbMCR61P"
      },
      "outputs": [],
      "source": [
        "!pwd\n",
        "!cd /\n",
        "!ls -l\n",
        "print(\"Hello\")"
      ]
    },
    {
      "cell_type": "markdown",
      "metadata": {
        "id": "7b5jv0ouFREV"
      },
      "source": [
        "All usage of Colab in this course is completely free or charge. Even GPU usage is provided free of charge for some hours of usage every day.\n",
        "\n",
        "**Using GPUs**\n",
        "* Many of the exercises in the course executes more quickly by using GPU runtime: Runtime | Change runtime type | Hardware accelerator | GPU\n",
        "\n",
        "**Some final words on Colab**\n",
        "*   You execute each cell in order, you can edit & re-execute cells if you want\n",
        "*   Sometimes, this could have unintended consequences. For example, if you add a dimension to an array and execute the cell multiple times, then the cells after may not work. If you encounter problem reset your environment:\n",
        "  *   Runtime -> Restart runtime... Resets your Python shell\n",
        "  *   Runtime -> Restart all runtimes... Will reset the Colab image, and get you back to a 100% clean environment\n",
        "* You can also clear the output in the Colab by doing: Edit -> Clear all outputs\n",
        "* Colabs in this course are loaded from GitHub. Save to your Google Drive if you want a copy with your code/output: File -> Save a copy in Drive...\n",
        "\n",
        "**Learn More**\n",
        "*   Check out [this](https://www.youtube.com/watch?v=inN8seMm7UI&list=PLQY2H8rRoyvwLbzbnKJ59NkZvQAW9wLbx&index=3) episode of #CodingTensorFlow, and don't forget to subscribe to the YouTube channel ;)\n"
      ]
    }
  ],
  "metadata": {
    "colab": {
      "provenance": []
    },
    "kernelspec": {
      "display_name": "Python 3",
      "name": "python3"
    }
  },
  "nbformat": 4,
  "nbformat_minor": 0
}